{
  "nbformat": 4,
  "nbformat_minor": 0,
  "metadata": {
    "colab": {
      "provenance": [],
      "authorship_tag": "ABX9TyP5KYgxu+eYCVlATq1iTaMp",
      "include_colab_link": true
    },
    "kernelspec": {
      "name": "python3",
      "display_name": "Python 3"
    },
    "language_info": {
      "name": "python"
    }
  },
  "cells": [
    {
      "cell_type": "markdown",
      "metadata": {
        "id": "view-in-github",
        "colab_type": "text"
      },
      "source": [
        "<a href=\"https://colab.research.google.com/github/meerabshabeeh04/Personalized-Exercise-Plan-Recommender/blob/main/Personalized_Exercise_Recommender.ipynb\" target=\"_parent\"><img src=\"https://colab.research.google.com/assets/colab-badge.svg\" alt=\"Open In Colab\"/></a>"
      ]
    },
    {
      "cell_type": "code",
      "execution_count": 3,
      "metadata": {
        "id": "Mea6OVdbK7jy",
        "colab": {
          "base_uri": "https://localhost:8080/"
        },
        "outputId": "0f0d0516-4121-4f14-c132-31875255bfbb"
      },
      "outputs": [
        {
          "output_type": "stream",
          "name": "stdout",
          "text": [
            "Drive already mounted at /content/drive; to attempt to forcibly remount, call drive.mount(\"/content/drive\", force_remount=True).\n"
          ]
        }
      ],
      "source": [
        "import pandas as pd\n",
        "from google.colab import drive\n",
        "drive.mount('/content/drive')\n",
        "dataset = pd.read_csv('/content/drive/My Drive/Colab Notebooks/final_dataset_BFP .csv')"
      ]
    },
    {
      "cell_type": "code",
      "source": [
        "#EDA Analysis\n"
      ],
      "metadata": {
        "id": "ydRoBJEOUMcq"
      },
      "execution_count": null,
      "outputs": []
    }
  ]
}