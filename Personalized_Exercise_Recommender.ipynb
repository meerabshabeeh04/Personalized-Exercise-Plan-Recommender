{
  "cells": [
    {
      "cell_type": "markdown",
      "metadata": {
        "id": "view-in-github",
        "colab_type": "text"
      },
      "source": [
        "<a href=\"https://colab.research.google.com/github/meerabshabeeh04/Personalized-Exercise-Plan-Recommender/blob/main/Personalized_Exercise_Recommender.ipynb\" target=\"_parent\"><img src=\"https://colab.research.google.com/assets/colab-badge.svg\" alt=\"Open In Colab\"/></a>"
      ]
    },
    {
      "cell_type": "markdown",
      "metadata": {
        "id": "aV0Fxbl073-4"
      },
      "source": [
        "**Installing Necessary Libraries**"
      ]
    },
    {
      "cell_type": "code",
      "execution_count": 1,
      "metadata": {
        "colab": {
          "base_uri": "https://localhost:8080/"
        },
        "id": "i-1PX7Dw5fR3",
        "outputId": "1920e20c-e136-43cb-979c-438cd0375ca2",
        "collapsed": true
      },
      "outputs": [
        {
          "output_type": "stream",
          "name": "stdout",
          "text": [
            "Collecting skimpy\n",
            "  Downloading skimpy-0.0.15-py3-none-any.whl (16 kB)\n",
            "Requirement already satisfied: Pygments<3.0.0,>=2.10.0 in /usr/local/lib/python3.10/dist-packages (from skimpy) (2.16.1)\n",
            "Requirement already satisfied: click<9.0.0,>=8.1.6 in /usr/local/lib/python3.10/dist-packages (from skimpy) (8.1.7)\n",
            "Collecting ipykernel<7.0.0,>=6.7.0 (from skimpy)\n",
            "  Downloading ipykernel-6.29.5-py3-none-any.whl (117 kB)\n",
            "\u001b[2K     \u001b[90m━━━━━━━━━━━━━━━━━━━━━━━━━━━━━━━━━━━━━━━━\u001b[0m \u001b[32m117.2/117.2 kB\u001b[0m \u001b[31m4.2 MB/s\u001b[0m eta \u001b[36m0:00:00\u001b[0m\n",
            "\u001b[?25hRequirement already satisfied: numpy<2.0.0,>=1.22.2 in /usr/local/lib/python3.10/dist-packages (from skimpy) (1.25.2)\n",
            "Requirement already satisfied: pandas<3.0.0,>=2.0.3 in /usr/local/lib/python3.10/dist-packages (from skimpy) (2.0.3)\n",
            "Requirement already satisfied: polars<0.21,>=0.19 in /usr/local/lib/python3.10/dist-packages (from skimpy) (0.20.2)\n",
            "Requirement already satisfied: pyarrow<17,>=13 in /usr/local/lib/python3.10/dist-packages (from skimpy) (14.0.2)\n",
            "Requirement already satisfied: rich<14.0,>=10.9 in /usr/local/lib/python3.10/dist-packages (from skimpy) (13.7.1)\n",
            "Collecting typeguard==4.2.1 (from skimpy)\n",
            "  Downloading typeguard-4.2.1-py3-none-any.whl (34 kB)\n",
            "Requirement already satisfied: typing-extensions>=4.10.0 in /usr/local/lib/python3.10/dist-packages (from typeguard==4.2.1->skimpy) (4.12.2)\n",
            "Collecting comm>=0.1.1 (from ipykernel<7.0.0,>=6.7.0->skimpy)\n",
            "  Downloading comm-0.2.2-py3-none-any.whl (7.2 kB)\n",
            "Requirement already satisfied: debugpy>=1.6.5 in /usr/local/lib/python3.10/dist-packages (from ipykernel<7.0.0,>=6.7.0->skimpy) (1.6.6)\n",
            "Requirement already satisfied: ipython>=7.23.1 in /usr/local/lib/python3.10/dist-packages (from ipykernel<7.0.0,>=6.7.0->skimpy) (7.34.0)\n",
            "Requirement already satisfied: jupyter-client>=6.1.12 in /usr/local/lib/python3.10/dist-packages (from ipykernel<7.0.0,>=6.7.0->skimpy) (6.1.12)\n",
            "Requirement already satisfied: jupyter-core!=5.0.*,>=4.12 in /usr/local/lib/python3.10/dist-packages (from ipykernel<7.0.0,>=6.7.0->skimpy) (5.7.2)\n",
            "Requirement already satisfied: matplotlib-inline>=0.1 in /usr/local/lib/python3.10/dist-packages (from ipykernel<7.0.0,>=6.7.0->skimpy) (0.1.7)\n",
            "Requirement already satisfied: nest-asyncio in /usr/local/lib/python3.10/dist-packages (from ipykernel<7.0.0,>=6.7.0->skimpy) (1.6.0)\n",
            "Requirement already satisfied: packaging in /usr/local/lib/python3.10/dist-packages (from ipykernel<7.0.0,>=6.7.0->skimpy) (24.1)\n",
            "Requirement already satisfied: psutil in /usr/local/lib/python3.10/dist-packages (from ipykernel<7.0.0,>=6.7.0->skimpy) (5.9.5)\n",
            "Requirement already satisfied: pyzmq>=24 in /usr/local/lib/python3.10/dist-packages (from ipykernel<7.0.0,>=6.7.0->skimpy) (24.0.1)\n",
            "Requirement already satisfied: tornado>=6.1 in /usr/local/lib/python3.10/dist-packages (from ipykernel<7.0.0,>=6.7.0->skimpy) (6.3.3)\n",
            "Requirement already satisfied: traitlets>=5.4.0 in /usr/local/lib/python3.10/dist-packages (from ipykernel<7.0.0,>=6.7.0->skimpy) (5.7.1)\n",
            "Requirement already satisfied: python-dateutil>=2.8.2 in /usr/local/lib/python3.10/dist-packages (from pandas<3.0.0,>=2.0.3->skimpy) (2.8.2)\n",
            "Requirement already satisfied: pytz>=2020.1 in /usr/local/lib/python3.10/dist-packages (from pandas<3.0.0,>=2.0.3->skimpy) (2023.4)\n",
            "Requirement already satisfied: tzdata>=2022.1 in /usr/local/lib/python3.10/dist-packages (from pandas<3.0.0,>=2.0.3->skimpy) (2024.1)\n",
            "Requirement already satisfied: markdown-it-py>=2.2.0 in /usr/local/lib/python3.10/dist-packages (from rich<14.0,>=10.9->skimpy) (3.0.0)\n",
            "Requirement already satisfied: setuptools>=18.5 in /usr/local/lib/python3.10/dist-packages (from ipython>=7.23.1->ipykernel<7.0.0,>=6.7.0->skimpy) (67.7.2)\n",
            "Collecting jedi>=0.16 (from ipython>=7.23.1->ipykernel<7.0.0,>=6.7.0->skimpy)\n",
            "  Downloading jedi-0.19.1-py2.py3-none-any.whl (1.6 MB)\n",
            "\u001b[2K     \u001b[90m━━━━━━━━━━━━━━━━━━━━━━━━━━━━━━━━━━━━━━━━\u001b[0m \u001b[32m1.6/1.6 MB\u001b[0m \u001b[31m10.5 MB/s\u001b[0m eta \u001b[36m0:00:00\u001b[0m\n",
            "\u001b[?25hRequirement already satisfied: decorator in /usr/local/lib/python3.10/dist-packages (from ipython>=7.23.1->ipykernel<7.0.0,>=6.7.0->skimpy) (4.4.2)\n",
            "Requirement already satisfied: pickleshare in /usr/local/lib/python3.10/dist-packages (from ipython>=7.23.1->ipykernel<7.0.0,>=6.7.0->skimpy) (0.7.5)\n",
            "Requirement already satisfied: prompt-toolkit!=3.0.0,!=3.0.1,<3.1.0,>=2.0.0 in /usr/local/lib/python3.10/dist-packages (from ipython>=7.23.1->ipykernel<7.0.0,>=6.7.0->skimpy) (3.0.47)\n",
            "Requirement already satisfied: backcall in /usr/local/lib/python3.10/dist-packages (from ipython>=7.23.1->ipykernel<7.0.0,>=6.7.0->skimpy) (0.2.0)\n",
            "Requirement already satisfied: pexpect>4.3 in /usr/local/lib/python3.10/dist-packages (from ipython>=7.23.1->ipykernel<7.0.0,>=6.7.0->skimpy) (4.9.0)\n",
            "Requirement already satisfied: platformdirs>=2.5 in /usr/local/lib/python3.10/dist-packages (from jupyter-core!=5.0.*,>=4.12->ipykernel<7.0.0,>=6.7.0->skimpy) (4.2.2)\n",
            "Requirement already satisfied: mdurl~=0.1 in /usr/local/lib/python3.10/dist-packages (from markdown-it-py>=2.2.0->rich<14.0,>=10.9->skimpy) (0.1.2)\n",
            "Requirement already satisfied: six>=1.5 in /usr/local/lib/python3.10/dist-packages (from python-dateutil>=2.8.2->pandas<3.0.0,>=2.0.3->skimpy) (1.16.0)\n",
            "Requirement already satisfied: parso<0.9.0,>=0.8.3 in /usr/local/lib/python3.10/dist-packages (from jedi>=0.16->ipython>=7.23.1->ipykernel<7.0.0,>=6.7.0->skimpy) (0.8.4)\n",
            "Requirement already satisfied: ptyprocess>=0.5 in /usr/local/lib/python3.10/dist-packages (from pexpect>4.3->ipython>=7.23.1->ipykernel<7.0.0,>=6.7.0->skimpy) (0.7.0)\n",
            "Requirement already satisfied: wcwidth in /usr/local/lib/python3.10/dist-packages (from prompt-toolkit!=3.0.0,!=3.0.1,<3.1.0,>=2.0.0->ipython>=7.23.1->ipykernel<7.0.0,>=6.7.0->skimpy) (0.2.13)\n",
            "Installing collected packages: typeguard, jedi, comm, ipykernel, skimpy\n",
            "  Attempting uninstall: ipykernel\n",
            "    Found existing installation: ipykernel 5.5.6\n",
            "    Uninstalling ipykernel-5.5.6:\n",
            "      Successfully uninstalled ipykernel-5.5.6\n",
            "\u001b[31mERROR: pip's dependency resolver does not currently take into account all the packages that are installed. This behaviour is the source of the following dependency conflicts.\n",
            "google-colab 1.0.0 requires ipykernel==5.5.6, but you have ipykernel 6.29.5 which is incompatible.\u001b[0m\u001b[31m\n",
            "\u001b[0mSuccessfully installed comm-0.2.2 ipykernel-6.29.5 jedi-0.19.1 skimpy-0.0.15 typeguard-4.2.1\n"
          ]
        }
      ],
      "source": [
        "!pip install skimpy\n"
      ]
    },
    {
      "cell_type": "markdown",
      "metadata": {
        "id": "9RHIy3rZ78A0"
      },
      "source": [
        "**Importing All Necessary Libraries**"
      ]
    },
    {
      "cell_type": "code",
      "execution_count": 2,
      "metadata": {
        "id": "1uzLNnYX5t4_"
      },
      "outputs": [],
      "source": [
        "import pandas as pd\n",
        "from sklearn.preprocessing import OneHotEncoder, StandardScaler\n",
        "from sklearn.model_selection import train_test_split, GridSearchCV\n",
        "from sklearn.neighbors import KNeighborsClassifier\n",
        "from sklearn.ensemble import RandomForestClassifier\n",
        "from sklearn.metrics import accuracy_score, classification_report\n",
        "import joblib\n",
        "import skimpy\n"
      ]
    },
    {
      "cell_type": "markdown",
      "metadata": {
        "id": "ghVFofvH8BGL"
      },
      "source": [
        "**Loading Dataset**"
      ]
    },
    {
      "cell_type": "code",
      "execution_count": 4,
      "metadata": {
        "id": "k4_Fmtqf51fW"
      },
      "outputs": [],
      "source": [
        "#Load dataset\n",
        "dataset = pd.read_csv('/content/final_dataset_BFP .csv')\n",
        "\n",
        "# Handle missing values\n",
        "dataset.fillna(method='ffill', inplace=True)"
      ]
    },
    {
      "cell_type": "markdown",
      "metadata": {
        "id": "63OC84AP88mO"
      },
      "source": [
        "**Exploratory Data Analysis for Exercise Recommendations**"
      ]
    },
    {
      "cell_type": "code",
      "execution_count": null,
      "metadata": {
        "colab": {
          "base_uri": "https://localhost:8080/",
          "height": 1000
        },
        "id": "ydRoBJEOUMcq",
        "outputId": "f3b209a8-135c-4fe8-a645-a513bf2d533d"
      },
      "outputs": [
        {
          "name": "stdout",
          "output_type": "stream",
          "text": [
            "<class 'pandas.core.frame.DataFrame'>\n",
            "RangeIndex: 5000 entries, 0 to 4999\n",
            "Data columns (total 9 columns):\n",
            " #   Column                        Non-Null Count  Dtype  \n",
            "---  ------                        --------------  -----  \n",
            " 0   Weight                        5000 non-null   float64\n",
            " 1   Height                        5000 non-null   float64\n",
            " 2   BMI                           5000 non-null   float64\n",
            " 3   Body Fat Percentage           5000 non-null   float64\n",
            " 4   BFPcase                       5000 non-null   object \n",
            " 5   Gender                        5000 non-null   object \n",
            " 6   Age                           5000 non-null   int64  \n",
            " 7   BMIcase                       5000 non-null   object \n",
            " 8   Exercise Recommendation Plan  5000 non-null   int64  \n",
            "dtypes: float64(4), int64(2), object(3)\n",
            "memory usage: 351.7+ KB\n",
            "None\n",
            "(5000, 9)\n",
            "            Weight       Height          BMI  Body Fat Percentage  \\\n",
            "count  5000.000000  5000.000000  5000.000000          5000.000000   \n",
            "mean     80.218232     1.762564    26.003673            29.974650   \n",
            "std      17.161304     0.128635     5.601313            10.804125   \n",
            "min      50.004559     1.391627    13.099716             5.180450   \n",
            "25%      65.691294     1.704281    21.575751            21.296533   \n",
            "50%      80.178376     1.775016    26.565933            29.976548   \n",
            "75%      94.964977     1.846296    30.801344            39.128578   \n",
            "max     109.986731     1.979956    34.996928            51.428497   \n",
            "\n",
            "               Age  Exercise Recommendation Plan  \n",
            "count  5000.000000                   5000.000000  \n",
            "mean     41.769400                      4.866000  \n",
            "std      13.797199                      1.503095  \n",
            "min      18.000000                      1.000000  \n",
            "25%      30.000000                      4.000000  \n",
            "50%      42.000000                      5.000000  \n",
            "75%      54.000000                      6.000000  \n",
            "max      65.000000                      7.000000  \n",
            "Weight                          5000\n",
            "Height                          5000\n",
            "BMI                             5000\n",
            "Body Fat Percentage             5000\n",
            "BFPcase                            4\n",
            "Gender                             2\n",
            "Age                               48\n",
            "BMIcase                            7\n",
            "Exercise Recommendation Plan       7\n",
            "dtype: int64\n"
          ]
        },
        {
          "data": {
            "image/png": "[encoded data removed]",
            "text/plain": [
              "<Figure size 640x480 with 1 Axes>"
            ]
          },
          "metadata": {},
          "output_type": "display_data"
        },
        {
          "data": {
            "image/png": "[encoded data removed]",
            "text/plain": [
              "<Figure size 640x480 with 1 Axes>"
            ]
          },
          "metadata": {},
          "output_type": "display_data"
        },
        {
          "data": {
            "image/png": "[encoded data removed]",
            "text/plain": [
              "<Figure size 640x480 with 1 Axes>"
            ]
          },
          "metadata": {},
          "output_type": "display_data"
        },
        {
          "data": {
            "image/png": "[encoded data removed]",
            "text/plain": [
              "<Figure size 640x480 with 1 Axes>"
            ]
          },
          "metadata": {},
          "output_type": "display_data"
        },
        {
          "data": {
            "image/png": "[encoded data removed]",
            "text/plain": [
              "<Figure size 640x480 with 1 Axes>"
            ]
          },
          "metadata": {},
          "output_type": "display_data"
        },
        {
          "data": {
            "image/png": "[encoded data removed]",
            "text/plain": [
              "<Figure size 640x480 with 1 Axes>"
            ]
          },
          "metadata": {},
          "output_type": "display_data"
        },
        {
          "data": {
            "image/png": "[encoded data removed]",
            "text/plain": [
              "<Figure size 640x480 with 1 Axes>"
            ]
          },
          "metadata": {},
          "output_type": "display_data"
        },
        {
          "data": {
            "image/png": "[encoded data removed]",
            "text/plain": [
              "<Figure size 640x480 with 1 Axes>"
            ]
          },
          "metadata": {},
          "output_type": "display_data"
        },
        {
          "name": "stdout",
          "output_type": "stream",
          "text": [
            "['Acceptable' 'Fitness' 'Obese' 'Athletes']\n",
            "['Male' 'Female']\n",
            "['normal' 'over weight' 'sever thinness' 'severe obese' 'obese'\n",
            " 'mild thinness' 'moderate thinness']\n"
          ]
        },
        {
          "data": {
            "image/png": "[encoded data removed]",
            "text/plain": [
              "<Figure size 640x480 with 2 Axes>"
            ]
          },
          "metadata": {},
          "output_type": "display_data"
        },
        {
          "name": "stdout",
          "output_type": "stream",
          "text": [
            "Exercise Recommendation Plan\n",
            "4    1458\n",
            "5    1230\n",
            "7     860\n",
            "6     843\n",
            "3     263\n",
            "1     211\n",
            "2     135\n",
            "Name: count, dtype: int64\n"
          ]
        }
      ],
      "source": [
        "#EDA Analysis\n",
        "import matplotlib.pyplot as plt\n",
        "import seaborn as sns\n",
        "print(dataset.info())\n",
        "print(dataset.shape)\n",
        "print(dataset.describe())\n",
        "print(dataset.nunique())\n",
        "plt.scatter(dataset['Exercise Recommendation Plan'], dataset['Weight'])\n",
        "plt.xlabel('Weight')\n",
        "plt.ylabel('Exercise Recommendation Plan')\n",
        "plt.title('Weight vs Exercise Recommendation Plan Distribution')\n",
        "plt.show()\n",
        "plt.scatter(dataset['Exercise Recommendation Plan'], dataset['Height'])\n",
        "plt.xlabel('Height')\n",
        "plt.ylabel('Exercise Recommendation Plan')\n",
        "plt.title('Height vs Exercise Recommendation Plan Distribution')\n",
        "plt.show()\n",
        "plt.scatter(dataset['Exercise Recommendation Plan'], dataset['BMI'])\n",
        "plt.xlabel('BMI')\n",
        "plt.ylabel('Exercise Recommendation Plan')\n",
        "plt.title('BMI vs Exercise Recommendation Plan Distribution')\n",
        "plt.show()\n",
        "plt.scatter(dataset['Exercise Recommendation Plan'], dataset['Body Fat Percentage'])\n",
        "plt.xlabel('Body Fat Percentage')\n",
        "plt.ylabel('Exercise Recommendation Plan')\n",
        "plt.title('Body Fat Percentage vs Exercise Recommendation Plan Distribution')\n",
        "plt.show()\n",
        "sns.countplot(x='BFPcase', data=dataset, hue='Exercise Recommendation Plan')\n",
        "plt.title('BFP case Distribution w.r.t Exercise Recommendation Plan')\n",
        "plt.show()\n",
        "sns.countplot(x='Gender', data=dataset, hue='Exercise Recommendation Plan')\n",
        "plt.title('Gender Distribution w.r.t Exercise Recommendation Plan')\n",
        "plt.show()\n",
        "plt.scatter(dataset['Exercise Recommendation Plan'], dataset['Age'])\n",
        "plt.xlabel('Age')\n",
        "plt.ylabel('Exercise Recommendation Plan')\n",
        "plt.title('Age vs Exercise Recommendation Plan Distribution')\n",
        "plt.show()\n",
        "sns.countplot(x='BMIcase', data=dataset, hue='Exercise Recommendation Plan')\n",
        "plt.title('BMIcase Distribution w.r.t Exercise Recommendation Plan')\n",
        "plt.show()\n",
        "print(dataset['BFPcase'].unique())\n",
        "print(dataset['Gender'].unique())\n",
        "print(dataset['BMIcase'].unique())\n",
        "dataset['BFPcase'] = dataset['BFPcase'].map({'Obese':1, 'Acceptable':2, 'Fitness':3, 'Athletes':4})\n",
        "dataset['Gender'] = dataset['Gender'].map({'Male':0, 'Female':1})\n",
        "dataset['BMIcase'] = dataset['BMIcase'].map({'sever thinness':1, 'moderate thinness':2, 'mild thinness':3, 'normal':4, 'over weight':5, 'obese':6, 'severe obese':7})\n",
        "correlation_matrix = dataset.corr()\n",
        "sns.heatmap(correlation_matrix, annot=True, cmap='coolwarm', fmt=\".2f\")\n",
        "plt.title('Correlation Matrix')\n",
        "plt.show()\n",
        "print(dataset['Exercise Recommendation Plan'].value_counts())"
      ]
    },
    {
      "cell_type": "markdown",
      "metadata": {
        "id": "KutZK49K9eTv"
      },
      "source": [
        "**Summary Of All Columns**\n"
      ]
    },
    {
      "cell_type": "code",
      "execution_count": null,
      "metadata": {
        "colab": {
          "base_uri": "https://localhost:8080/",
          "height": 475
        },
        "id": "SgOALG819eAw",
        "outputId": "a2c31f7a-f1e8-483c-c83a-0b759a838006"
      },
      "outputs": [
        {
          "data": {
            "text/html": [
              "<pre style=\"white-space:pre;overflow-x:auto;line-height:normal;font-family:Menlo,'DejaVu Sans Mono',consolas,'Courier New',monospace\">╭──────────────────────────────────────────────── skimpy summary ─────────────────────────────────────────────────╮\n",
              "│ <span style=\"font-style: italic\">         Data Summary         </span> <span style=\"font-style: italic\">      Data Types       </span>                                                          │\n",
              "│ ┏━━━━━━━━━━━━━━━━━━━┳━━━━━━━━┓ ┏━━━━━━━━━━━━━┳━━━━━━━┓                                                          │\n",
              "│ ┃<span style=\"color: #008080; text-decoration-color: #008080; font-weight: bold\"> dataframe         </span>┃<span style=\"color: #008080; text-decoration-color: #008080; font-weight: bold\"> Values </span>┃ ┃<span style=\"color: #008080; text-decoration-color: #008080; font-weight: bold\"> Column Type </span>┃<span style=\"color: #008080; text-decoration-color: #008080; font-weight: bold\"> Count </span>┃                                                          │\n",
              "│ ┡━━━━━━━━━━━━━━━━━━━╇━━━━━━━━┩ ┡━━━━━━━━━━━━━╇━━━━━━━┩                                                          │\n",
              "│ │ Number of rows    │ 5000   │ │ int64       │ 5     │                                                          │\n",
              "│ │ Number of columns │ 9      │ │ float64     │ 4     │                                                          │\n",
              "│ └───────────────────┴────────┘ └─────────────┴───────┘                                                          │\n",
              "│ <span style=\"font-style: italic\">                                                    number                                                    </span>  │\n",
              "│ ┏━━━━━━━━━━━━━━━━━━━━━━━━┳━━━━━┳━━━━━━━┳━━━━━━━━━┳━━━━━━━━━┳━━━━━━━━┳━━━━━━━┳━━━━━━━┳━━━━━━━┳━━━━━━━┳━━━━━━━━┓  │\n",
              "│ ┃<span style=\"font-weight: bold\"> column_name            </span>┃<span style=\"font-weight: bold\"> NA  </span>┃<span style=\"font-weight: bold\"> NA %  </span>┃<span style=\"font-weight: bold\"> mean    </span>┃<span style=\"font-weight: bold\"> sd      </span>┃<span style=\"font-weight: bold\"> p0     </span>┃<span style=\"font-weight: bold\"> p25   </span>┃<span style=\"font-weight: bold\"> p50   </span>┃<span style=\"font-weight: bold\"> p75   </span>┃<span style=\"font-weight: bold\"> p100  </span>┃<span style=\"font-weight: bold\"> hist   </span>┃  │\n",
              "│ ┡━━━━━━━━━━━━━━━━━━━━━━━━╇━━━━━╇━━━━━━━╇━━━━━━━━━╇━━━━━━━━━╇━━━━━━━━╇━━━━━━━╇━━━━━━━╇━━━━━━━╇━━━━━━━╇━━━━━━━━┩  │\n",
              "│ │ <span style=\"color: #af87ff; text-decoration-color: #af87ff\">Weight                </span> │ <span style=\"color: #008080; text-decoration-color: #008080\">  0</span> │ <span style=\"color: #008080; text-decoration-color: #008080\">    0</span> │ <span style=\"color: #008080; text-decoration-color: #008080\">  80.22</span> │ <span style=\"color: #008080; text-decoration-color: #008080\">  17.16</span> │ <span style=\"color: #008080; text-decoration-color: #008080\">    50</span> │ <span style=\"color: #008080; text-decoration-color: #008080\">65.69</span> │ <span style=\"color: #008080; text-decoration-color: #008080\">80.18</span> │ <span style=\"color: #008080; text-decoration-color: #008080\">94.96</span> │ <span style=\"color: #008080; text-decoration-color: #008080\">  110</span> │ <span style=\"color: #008000; text-decoration-color: #008000\">▇▇▇▇▇▇</span> │  │\n",
              "│ │ <span style=\"color: #af87ff; text-decoration-color: #af87ff\">Height                </span> │ <span style=\"color: #008080; text-decoration-color: #008080\">  0</span> │ <span style=\"color: #008080; text-decoration-color: #008080\">    0</span> │ <span style=\"color: #008080; text-decoration-color: #008080\">  1.763</span> │ <span style=\"color: #008080; text-decoration-color: #008080\"> 0.1286</span> │ <span style=\"color: #008080; text-decoration-color: #008080\"> 1.392</span> │ <span style=\"color: #008080; text-decoration-color: #008080\">1.704</span> │ <span style=\"color: #008080; text-decoration-color: #008080\">1.775</span> │ <span style=\"color: #008080; text-decoration-color: #008080\">1.846</span> │ <span style=\"color: #008080; text-decoration-color: #008080\"> 1.98</span> │ <span style=\"color: #008000; text-decoration-color: #008000\">▁▂▃▇▇▅</span> │  │\n",
              "│ │ <span style=\"color: #af87ff; text-decoration-color: #af87ff\">BMI                   </span> │ <span style=\"color: #008080; text-decoration-color: #008080\">  0</span> │ <span style=\"color: #008080; text-decoration-color: #008080\">    0</span> │ <span style=\"color: #008080; text-decoration-color: #008080\">     26</span> │ <span style=\"color: #008080; text-decoration-color: #008080\">  5.601</span> │ <span style=\"color: #008080; text-decoration-color: #008080\">  13.1</span> │ <span style=\"color: #008080; text-decoration-color: #008080\">21.58</span> │ <span style=\"color: #008080; text-decoration-color: #008080\">26.57</span> │ <span style=\"color: #008080; text-decoration-color: #008080\"> 30.8</span> │ <span style=\"color: #008080; text-decoration-color: #008080\">   35</span> │ <span style=\"color: #008000; text-decoration-color: #008000\">▂▅▆▇▇▇</span> │  │\n",
              "│ │ <span style=\"color: #af87ff; text-decoration-color: #af87ff\">Body Fat Percentage   </span> │ <span style=\"color: #008080; text-decoration-color: #008080\">  0</span> │ <span style=\"color: #008080; text-decoration-color: #008080\">    0</span> │ <span style=\"color: #008080; text-decoration-color: #008080\">  29.97</span> │ <span style=\"color: #008080; text-decoration-color: #008080\">   10.8</span> │ <span style=\"color: #008080; text-decoration-color: #008080\">  5.18</span> │ <span style=\"color: #008080; text-decoration-color: #008080\"> 21.3</span> │ <span style=\"color: #008080; text-decoration-color: #008080\">29.98</span> │ <span style=\"color: #008080; text-decoration-color: #008080\">39.13</span> │ <span style=\"color: #008080; text-decoration-color: #008080\">51.43</span> │ <span style=\"color: #008000; text-decoration-color: #008000\">▂▆▇▇▇▃</span> │  │\n",
              "│ │ <span style=\"color: #af87ff; text-decoration-color: #af87ff\">BFPcase               </span> │ <span style=\"color: #008080; text-decoration-color: #008080\">  0</span> │ <span style=\"color: #008080; text-decoration-color: #008080\">    0</span> │ <span style=\"color: #008080; text-decoration-color: #008080\">  1.608</span> │ <span style=\"color: #008080; text-decoration-color: #008080\"> 0.8884</span> │ <span style=\"color: #008080; text-decoration-color: #008080\">     1</span> │ <span style=\"color: #008080; text-decoration-color: #008080\">    1</span> │ <span style=\"color: #008080; text-decoration-color: #008080\">    1</span> │ <span style=\"color: #008080; text-decoration-color: #008080\">    2</span> │ <span style=\"color: #008080; text-decoration-color: #008080\">    4</span> │ <span style=\"color: #008000; text-decoration-color: #008000\">▇ ▃ ▁▁</span> │  │\n",
              "│ │ <span style=\"color: #af87ff; text-decoration-color: #af87ff\">Gender                </span> │ <span style=\"color: #008080; text-decoration-color: #008080\">  0</span> │ <span style=\"color: #008080; text-decoration-color: #008080\">    0</span> │ <span style=\"color: #008080; text-decoration-color: #008080\"> 0.4966</span> │ <span style=\"color: #008080; text-decoration-color: #008080\">    0.5</span> │ <span style=\"color: #008080; text-decoration-color: #008080\">     0</span> │ <span style=\"color: #008080; text-decoration-color: #008080\">    0</span> │ <span style=\"color: #008080; text-decoration-color: #008080\">    0</span> │ <span style=\"color: #008080; text-decoration-color: #008080\">    1</span> │ <span style=\"color: #008080; text-decoration-color: #008080\">    1</span> │ <span style=\"color: #008000; text-decoration-color: #008000\">▇    ▇</span> │  │\n",
              "│ │ <span style=\"color: #af87ff; text-decoration-color: #af87ff\">Age                   </span> │ <span style=\"color: #008080; text-decoration-color: #008080\">  0</span> │ <span style=\"color: #008080; text-decoration-color: #008080\">    0</span> │ <span style=\"color: #008080; text-decoration-color: #008080\">  41.77</span> │ <span style=\"color: #008080; text-decoration-color: #008080\">   13.8</span> │ <span style=\"color: #008080; text-decoration-color: #008080\">    18</span> │ <span style=\"color: #008080; text-decoration-color: #008080\">   30</span> │ <span style=\"color: #008080; text-decoration-color: #008080\">   42</span> │ <span style=\"color: #008080; text-decoration-color: #008080\">   54</span> │ <span style=\"color: #008080; text-decoration-color: #008080\">   65</span> │ <span style=\"color: #008000; text-decoration-color: #008000\">▇▇▇▇▇▇</span> │  │\n",
              "│ │ <span style=\"color: #af87ff; text-decoration-color: #af87ff\">BMIcase               </span> │ <span style=\"color: #008080; text-decoration-color: #008080\">  0</span> │ <span style=\"color: #008080; text-decoration-color: #008080\">    0</span> │ <span style=\"color: #008080; text-decoration-color: #008080\">  4.866</span> │ <span style=\"color: #008080; text-decoration-color: #008080\">  1.503</span> │ <span style=\"color: #008080; text-decoration-color: #008080\">     1</span> │ <span style=\"color: #008080; text-decoration-color: #008080\">    4</span> │ <span style=\"color: #008080; text-decoration-color: #008080\">    5</span> │ <span style=\"color: #008080; text-decoration-color: #008080\">    6</span> │ <span style=\"color: #008080; text-decoration-color: #008080\">    7</span> │ <span style=\"color: #008000; text-decoration-color: #008000\">▁▁▁▇▆▇</span> │  │\n",
              "│ │ <span style=\"color: #af87ff; text-decoration-color: #af87ff\">Exercise              </span> │ <span style=\"color: #008080; text-decoration-color: #008080\">  0</span> │ <span style=\"color: #008080; text-decoration-color: #008080\">    0</span> │ <span style=\"color: #008080; text-decoration-color: #008080\">  4.866</span> │ <span style=\"color: #008080; text-decoration-color: #008080\">  1.503</span> │ <span style=\"color: #008080; text-decoration-color: #008080\">     1</span> │ <span style=\"color: #008080; text-decoration-color: #008080\">    4</span> │ <span style=\"color: #008080; text-decoration-color: #008080\">    5</span> │ <span style=\"color: #008080; text-decoration-color: #008080\">    6</span> │ <span style=\"color: #008080; text-decoration-color: #008080\">    7</span> │ <span style=\"color: #008000; text-decoration-color: #008000\">▁▁▁▇▆▇</span> │  │\n",
              "│ │ <span style=\"color: #af87ff; text-decoration-color: #af87ff\">Recommendation Plan   </span> │     │       │         │         │        │       │       │       │       │        │  │\n",
              "│ └────────────────────────┴─────┴───────┴─────────┴─────────┴────────┴───────┴───────┴───────┴───────┴────────┘  │\n",
              "╰────────────────────────────────────────────────────── End ──────────────────────────────────────────────────────╯\n",
              "</pre>\n"
            ],
            "text/plain": [
              "╭──────────────────────────────────────────────── skimpy summary ─────────────────────────────────────────────────╮\n",
              "│ \u001b[3m         Data Summary         \u001b[0m \u001b[3m      Data Types       \u001b[0m                                                          │\n",
              "│ ┏━━━━━━━━━━━━━━━━━━━┳━━━━━━━━┓ ┏━━━━━━━━━━━━━┳━━━━━━━┓                                                          │\n",
              "│ ┃\u001b[1;36m \u001b[0m\u001b[1;36mdataframe        \u001b[0m\u001b[1;36m \u001b[0m┃\u001b[1;36m \u001b[0m\u001b[1;36mValues\u001b[0m\u001b[1;36m \u001b[0m┃ ┃\u001b[1;36m \u001b[0m\u001b[1;36mColumn Type\u001b[0m\u001b[1;36m \u001b[0m┃\u001b[1;36m \u001b[0m\u001b[1;36mCount\u001b[0m\u001b[1;36m \u001b[0m┃                                                          │\n",
              "│ ┡━━━━━━━━━━━━━━━━━━━╇━━━━━━━━┩ ┡━━━━━━━━━━━━━╇━━━━━━━┩                                                          │\n",
              "│ │ Number of rows    │ 5000   │ │ int64       │ 5     │                                                          │\n",
              "│ │ Number of columns │ 9      │ │ float64     │ 4     │                                                          │\n",
              "│ └───────────────────┴────────┘ └─────────────┴───────┘                                                          │\n",
              "│ \u001b[3m                                                    number                                                    \u001b[0m  │\n",
              "│ ┏━━━━━━━━━━━━━━━━━━━━━━━━┳━━━━━┳━━━━━━━┳━━━━━━━━━┳━━━━━━━━━┳━━━━━━━━┳━━━━━━━┳━━━━━━━┳━━━━━━━┳━━━━━━━┳━━━━━━━━┓  │\n",
              "│ ┃\u001b[1m \u001b[0m\u001b[1mcolumn_name           \u001b[0m\u001b[1m \u001b[0m┃\u001b[1m \u001b[0m\u001b[1mNA \u001b[0m\u001b[1m \u001b[0m┃\u001b[1m \u001b[0m\u001b[1mNA % \u001b[0m\u001b[1m \u001b[0m┃\u001b[1m \u001b[0m\u001b[1mmean   \u001b[0m\u001b[1m \u001b[0m┃\u001b[1m \u001b[0m\u001b[1msd     \u001b[0m\u001b[1m \u001b[0m┃\u001b[1m \u001b[0m\u001b[1mp0    \u001b[0m\u001b[1m \u001b[0m┃\u001b[1m \u001b[0m\u001b[1mp25  \u001b[0m\u001b[1m \u001b[0m┃\u001b[1m \u001b[0m\u001b[1mp50  \u001b[0m\u001b[1m \u001b[0m┃\u001b[1m \u001b[0m\u001b[1mp75  \u001b[0m\u001b[1m \u001b[0m┃\u001b[1m \u001b[0m\u001b[1mp100 \u001b[0m\u001b[1m \u001b[0m┃\u001b[1m \u001b[0m\u001b[1mhist  \u001b[0m\u001b[1m \u001b[0m┃  │\n",
              "│ ┡━━━━━━━━━━━━━━━━━━━━━━━━╇━━━━━╇━━━━━━━╇━━━━━━━━━╇━━━━━━━━━╇━━━━━━━━╇━━━━━━━╇━━━━━━━╇━━━━━━━╇━━━━━━━╇━━━━━━━━┩  │\n",
              "│ │ \u001b[38;5;141mWeight                \u001b[0m │ \u001b[36m  0\u001b[0m │ \u001b[36m    0\u001b[0m │ \u001b[36m  80.22\u001b[0m │ \u001b[36m  17.16\u001b[0m │ \u001b[36m    50\u001b[0m │ \u001b[36m65.69\u001b[0m │ \u001b[36m80.18\u001b[0m │ \u001b[36m94.96\u001b[0m │ \u001b[36m  110\u001b[0m │ \u001b[32m▇▇▇▇▇▇\u001b[0m │  │\n",
              "│ │ \u001b[38;5;141mHeight                \u001b[0m │ \u001b[36m  0\u001b[0m │ \u001b[36m    0\u001b[0m │ \u001b[36m  1.763\u001b[0m │ \u001b[36m 0.1286\u001b[0m │ \u001b[36m 1.392\u001b[0m │ \u001b[36m1.704\u001b[0m │ \u001b[36m1.775\u001b[0m │ \u001b[36m1.846\u001b[0m │ \u001b[36m 1.98\u001b[0m │ \u001b[32m▁▂▃▇▇▅\u001b[0m │  │\n",
              "│ │ \u001b[38;5;141mBMI                   \u001b[0m │ \u001b[36m  0\u001b[0m │ \u001b[36m    0\u001b[0m │ \u001b[36m     26\u001b[0m │ \u001b[36m  5.601\u001b[0m │ \u001b[36m  13.1\u001b[0m │ \u001b[36m21.58\u001b[0m │ \u001b[36m26.57\u001b[0m │ \u001b[36m 30.8\u001b[0m │ \u001b[36m   35\u001b[0m │ \u001b[32m▂▅▆▇▇▇\u001b[0m │  │\n",
              "│ │ \u001b[38;5;141mBody Fat Percentage   \u001b[0m │ \u001b[36m  0\u001b[0m │ \u001b[36m    0\u001b[0m │ \u001b[36m  29.97\u001b[0m │ \u001b[36m   10.8\u001b[0m │ \u001b[36m  5.18\u001b[0m │ \u001b[36m 21.3\u001b[0m │ \u001b[36m29.98\u001b[0m │ \u001b[36m39.13\u001b[0m │ \u001b[36m51.43\u001b[0m │ \u001b[32m▂▆▇▇▇▃\u001b[0m │  │\n",
              "│ │ \u001b[38;5;141mBFPcase               \u001b[0m │ \u001b[36m  0\u001b[0m │ \u001b[36m    0\u001b[0m │ \u001b[36m  1.608\u001b[0m │ \u001b[36m 0.8884\u001b[0m │ \u001b[36m     1\u001b[0m │ \u001b[36m    1\u001b[0m │ \u001b[36m    1\u001b[0m │ \u001b[36m    2\u001b[0m │ \u001b[36m    4\u001b[0m │ \u001b[32m▇ ▃ ▁▁\u001b[0m │  │\n",
              "│ │ \u001b[38;5;141mGender                \u001b[0m │ \u001b[36m  0\u001b[0m │ \u001b[36m    0\u001b[0m │ \u001b[36m 0.4966\u001b[0m │ \u001b[36m    0.5\u001b[0m │ \u001b[36m     0\u001b[0m │ \u001b[36m    0\u001b[0m │ \u001b[36m    0\u001b[0m │ \u001b[36m    1\u001b[0m │ \u001b[36m    1\u001b[0m │ \u001b[32m▇    ▇\u001b[0m │  │\n",
              "│ │ \u001b[38;5;141mAge                   \u001b[0m │ \u001b[36m  0\u001b[0m │ \u001b[36m    0\u001b[0m │ \u001b[36m  41.77\u001b[0m │ \u001b[36m   13.8\u001b[0m │ \u001b[36m    18\u001b[0m │ \u001b[36m   30\u001b[0m │ \u001b[36m   42\u001b[0m │ \u001b[36m   54\u001b[0m │ \u001b[36m   65\u001b[0m │ \u001b[32m▇▇▇▇▇▇\u001b[0m │  │\n",
              "│ │ \u001b[38;5;141mBMIcase               \u001b[0m │ \u001b[36m  0\u001b[0m │ \u001b[36m    0\u001b[0m │ \u001b[36m  4.866\u001b[0m │ \u001b[36m  1.503\u001b[0m │ \u001b[36m     1\u001b[0m │ \u001b[36m    4\u001b[0m │ \u001b[36m    5\u001b[0m │ \u001b[36m    6\u001b[0m │ \u001b[36m    7\u001b[0m │ \u001b[32m▁▁▁▇▆▇\u001b[0m │  │\n",
              "│ │ \u001b[38;5;141mExercise              \u001b[0m │ \u001b[36m  0\u001b[0m │ \u001b[36m    0\u001b[0m │ \u001b[36m  4.866\u001b[0m │ \u001b[36m  1.503\u001b[0m │ \u001b[36m     1\u001b[0m │ \u001b[36m    4\u001b[0m │ \u001b[36m    5\u001b[0m │ \u001b[36m    6\u001b[0m │ \u001b[36m    7\u001b[0m │ \u001b[32m▁▁▁▇▆▇\u001b[0m │  │\n",
              "│ │ \u001b[38;5;141mRecommendation Plan   \u001b[0m │     │       │         │         │        │       │       │       │       │        │  │\n",
              "│ └────────────────────────┴─────┴───────┴─────────┴─────────┴────────┴───────┴───────┴───────┴───────┴────────┘  │\n",
              "╰────────────────────────────────────────────────────── End ──────────────────────────────────────────────────────╯\n"
            ]
          },
          "metadata": {},
          "output_type": "display_data"
        },
        {
          "name": "stdout",
          "output_type": "stream",
          "text": [
            "None\n"
          ]
        }
      ],
      "source": [
        "summary = skimpy.skim(dataset)\n",
        "\n",
        "print(summary)"
      ]
    },
    {
      "cell_type": "markdown",
      "metadata": {
        "id": "ouWhgRdG93JS"
      },
      "source": [
        "**Have a Look at Dataset**"
      ]
    },
    {
      "cell_type": "code",
      "execution_count": null,
      "metadata": {
        "colab": {
          "base_uri": "https://localhost:8080/",
          "height": 441
        },
        "id": "PTubBCIC-Vg3",
        "outputId": "eb0cc030-f9df-43b1-f5f0-0e7caa1bc2e8"
      },
      "outputs": [
        {
          "data": {
            "application/vnd.google.colaboratory.intrinsic+json": {
              "summary": "{\n  \"name\": \"dataset\",\n  \"rows\": 5000,\n  \"fields\": [\n    {\n      \"column\": \"Weight\",\n      \"properties\": {\n        \"dtype\": \"number\",\n        \"std\": 17.16130379122062,\n        \"min\": 50.00455882,\n        \"max\": 109.9867312,\n        \"num_unique_values\": 5000,\n        \"samples\": [\n          105.7804075,\n          55.80496819,\n          71.11509872\n        ],\n        \"semantic_type\": \"\",\n        \"description\": \"\"\n      }\n    },\n    {\n      \"column\": \"Height\",\n      \"properties\": {\n        \"dtype\": \"number\",\n        \"std\": 0.12863494693202396,\n        \"min\": 1.391626854,\n        \"max\": 1.979956422,\n        \"num_unique_values\": 5000,\n        \"samples\": [\n          1.813276573,\n          1.711903962,\n          1.687580421\n        ],\n        \"semantic_type\": \"\",\n        \"description\": \"\"\n      }\n    },\n    {\n      \"column\": \"BMI\",\n      \"properties\": {\n        \"dtype\": \"number\",\n        \"std\": 5.601313409605712,\n        \"min\": 13.09971587,\n        \"max\": 34.99692799,\n        \"num_unique_values\": 5000,\n        \"samples\": [\n          32.17193146,\n          19.04206621,\n          24.97082326\n        ],\n        \"semantic_type\": \"\",\n        \"description\": \"\"\n      }\n    },\n    {\n      \"column\": \"Body Fat Percentage\",\n      \"properties\": {\n        \"dtype\": \"number\",\n        \"std\": 10.804124548467195,\n        \"min\": 5.180450273,\n        \"max\": 51.42849724,\n        \"num_unique_values\": 5000,\n        \"samples\": [\n          42.63631775,\n          20.22047945,\n          34.22498791\n        ],\n        \"semantic_type\": \"\",\n        \"description\": \"\"\n      }\n    },\n    {\n      \"column\": \"BFPcase\",\n      \"properties\": {\n        \"dtype\": \"number\",\n        \"std\": 0,\n        \"min\": 1,\n        \"max\": 4,\n        \"num_unique_values\": 4,\n        \"samples\": [\n          3,\n          4,\n          2\n        ],\n        \"semantic_type\": \"\",\n        \"description\": \"\"\n      }\n    },\n    {\n      \"column\": \"Gender\",\n      \"properties\": {\n        \"dtype\": \"number\",\n        \"std\": 0,\n        \"min\": 0,\n        \"max\": 1,\n        \"num_unique_values\": 2,\n        \"samples\": [\n          1,\n          0\n        ],\n        \"semantic_type\": \"\",\n        \"description\": \"\"\n      }\n    },\n    {\n      \"column\": \"Age\",\n      \"properties\": {\n        \"dtype\": \"number\",\n        \"std\": 13,\n        \"min\": 18,\n        \"max\": 65,\n        \"num_unique_values\": 48,\n        \"samples\": [\n          28,\n          38\n        ],\n        \"semantic_type\": \"\",\n        \"description\": \"\"\n      }\n    },\n    {\n      \"column\": \"BMIcase\",\n      \"properties\": {\n        \"dtype\": \"number\",\n        \"std\": 1,\n        \"min\": 1,\n        \"max\": 7,\n        \"num_unique_values\": 7,\n        \"samples\": [\n          4,\n          5\n        ],\n        \"semantic_type\": \"\",\n        \"description\": \"\"\n      }\n    },\n    {\n      \"column\": \"Exercise Recommendation Plan\",\n      \"properties\": {\n        \"dtype\": \"number\",\n        \"std\": 1,\n        \"min\": 1,\n        \"max\": 7,\n        \"num_unique_values\": 7,\n        \"samples\": [\n          4,\n          5\n        ],\n        \"semantic_type\": \"\",\n        \"description\": \"\"\n      }\n    }\n  ]\n}",
              "type": "dataframe",
              "variable_name": "dataset"
            },
            "text/html": [
              "\n",
              "  <div id=\"df-12f63ed5-a74e-43f8-983e-99a842e7178e\" class=\"colab-df-container\">\n",
              "    <div>\n",
              "<style scoped>\n",
              "    .dataframe tbody tr th:only-of-type {\n",
              "        vertical-align: middle;\n",
              "    }\n",
              "\n",
              "    .dataframe tbody tr th {\n",
              "        vertical-align: top;\n",
              "    }\n",
              "\n",
              "    .dataframe thead th {\n",
              "        text-align: right;\n",
              "    }\n",
              "</style>\n",
              "<table border=\"1\" class=\"dataframe\">\n",
              "  <thead>\n",
              "    <tr style=\"text-align: right;\">\n",
              "      <th></th>\n",
              "      <th>Weight</th>\n",
              "      <th>Height</th>\n",
              "      <th>BMI</th>\n",
              "      <th>Body Fat Percentage</th>\n",
              "      <th>BFPcase</th>\n",
              "      <th>Gender</th>\n",
              "      <th>Age</th>\n",
              "      <th>BMIcase</th>\n",
              "      <th>Exercise Recommendation Plan</th>\n",
              "    </tr>\n",
              "  </thead>\n",
              "  <tbody>\n",
              "    <tr>\n",
              "      <th>0</th>\n",
              "      <td>76.811975</td>\n",
              "      <td>1.820521</td>\n",
              "      <td>23.175956</td>\n",
              "      <td>18.281148</td>\n",
              "      <td>2</td>\n",
              "      <td>0</td>\n",
              "      <td>29</td>\n",
              "      <td>4</td>\n",
              "      <td>4</td>\n",
              "    </tr>\n",
              "    <tr>\n",
              "      <th>1</th>\n",
              "      <td>77.721154</td>\n",
              "      <td>1.945498</td>\n",
              "      <td>20.534184</td>\n",
              "      <td>13.731021</td>\n",
              "      <td>3</td>\n",
              "      <td>0</td>\n",
              "      <td>23</td>\n",
              "      <td>4</td>\n",
              "      <td>4</td>\n",
              "    </tr>\n",
              "    <tr>\n",
              "      <th>2</th>\n",
              "      <td>87.558726</td>\n",
              "      <td>1.742754</td>\n",
              "      <td>28.828859</td>\n",
              "      <td>42.304631</td>\n",
              "      <td>1</td>\n",
              "      <td>1</td>\n",
              "      <td>57</td>\n",
              "      <td>5</td>\n",
              "      <td>5</td>\n",
              "    </tr>\n",
              "    <tr>\n",
              "      <th>3</th>\n",
              "      <td>89.473356</td>\n",
              "      <td>1.758318</td>\n",
              "      <td>28.940017</td>\n",
              "      <td>27.958021</td>\n",
              "      <td>1</td>\n",
              "      <td>0</td>\n",
              "      <td>41</td>\n",
              "      <td>5</td>\n",
              "      <td>5</td>\n",
              "    </tr>\n",
              "    <tr>\n",
              "      <th>4</th>\n",
              "      <td>69.963943</td>\n",
              "      <td>1.722570</td>\n",
              "      <td>23.578732</td>\n",
              "      <td>16.464478</td>\n",
              "      <td>3</td>\n",
              "      <td>0</td>\n",
              "      <td>19</td>\n",
              "      <td>4</td>\n",
              "      <td>4</td>\n",
              "    </tr>\n",
              "    <tr>\n",
              "      <th>...</th>\n",
              "      <td>...</td>\n",
              "      <td>...</td>\n",
              "      <td>...</td>\n",
              "      <td>...</td>\n",
              "      <td>...</td>\n",
              "      <td>...</td>\n",
              "      <td>...</td>\n",
              "      <td>...</td>\n",
              "      <td>...</td>\n",
              "    </tr>\n",
              "    <tr>\n",
              "      <th>4995</th>\n",
              "      <td>87.003054</td>\n",
              "      <td>1.902891</td>\n",
              "      <td>24.027404</td>\n",
              "      <td>16.772884</td>\n",
              "      <td>3</td>\n",
              "      <td>0</td>\n",
              "      <td>18</td>\n",
              "      <td>4</td>\n",
              "      <td>4</td>\n",
              "    </tr>\n",
              "    <tr>\n",
              "      <th>4996</th>\n",
              "      <td>92.121555</td>\n",
              "      <td>1.779346</td>\n",
              "      <td>29.096464</td>\n",
              "      <td>30.215757</td>\n",
              "      <td>1</td>\n",
              "      <td>0</td>\n",
              "      <td>50</td>\n",
              "      <td>5</td>\n",
              "      <td>5</td>\n",
              "    </tr>\n",
              "    <tr>\n",
              "      <th>4997</th>\n",
              "      <td>105.298845</td>\n",
              "      <td>1.972883</td>\n",
              "      <td>27.053345</td>\n",
              "      <td>31.214014</td>\n",
              "      <td>1</td>\n",
              "      <td>0</td>\n",
              "      <td>65</td>\n",
              "      <td>5</td>\n",
              "      <td>5</td>\n",
              "    </tr>\n",
              "    <tr>\n",
              "      <th>4998</th>\n",
              "      <td>90.411999</td>\n",
              "      <td>1.803409</td>\n",
              "      <td>27.799528</td>\n",
              "      <td>29.579434</td>\n",
              "      <td>1</td>\n",
              "      <td>0</td>\n",
              "      <td>54</td>\n",
              "      <td>5</td>\n",
              "      <td>5</td>\n",
              "    </tr>\n",
              "    <tr>\n",
              "      <th>4999</th>\n",
              "      <td>54.641104</td>\n",
              "      <td>1.402966</td>\n",
              "      <td>27.760382</td>\n",
              "      <td>42.862459</td>\n",
              "      <td>1</td>\n",
              "      <td>1</td>\n",
              "      <td>65</td>\n",
              "      <td>5</td>\n",
              "      <td>5</td>\n",
              "    </tr>\n",
              "  </tbody>\n",
              "</table>\n",
              "<p>5000 rows × 9 columns</p>\n",
              "</div>\n",
              "    <div class=\"colab-df-buttons\">\n",
              "\n",
              "  <div class=\"colab-df-container\">\n",
              "    <button class=\"colab-df-convert\" onclick=\"convertToInteractive('df-12f63ed5-a74e-43f8-983e-99a842e7178e')\"\n",
              "            title=\"Convert this dataframe to an interactive table.\"\n",
              "            style=\"display:none;\">\n",
              "\n",
              "  <svg xmlns=\"http://www.w3.org/2000/svg\" height=\"24px\" viewBox=\"0 -960 960 960\">\n",
              "    <path d=\"M120-120v-720h720v720H120Zm60-500h600v-160H180v160Zm220 220h160v-160H400v160Zm0 220h160v-160H400v160ZM180-400h160v-160H180v160Zm440 0h160v-160H620v160ZM180-180h160v-160H180v160Zm440 0h160v-160H620v160Z\"/>\n",
              "  </svg>\n",
              "    </button>\n",
              "\n",
              "  <style>\n",
              "    .colab-df-container {\n",
              "      display:flex;\n",
              "      gap: 12px;\n",
              "    }\n",
              "\n",
              "    .colab-df-convert {\n",
              "      background-color: #E8F0FE;\n",
              "      border: none;\n",
              "      border-radius: 50%;\n",
              "      cursor: pointer;\n",
              "      display: none;\n",
              "      fill: #1967D2;\n",
              "      height: 32px;\n",
              "      padding: 0 0 0 0;\n",
              "      width: 32px;\n",
              "    }\n",
              "\n",
              "    .colab-df-convert:hover {\n",
              "      background-color: #E2EBFA;\n",
              "      box-shadow: 0px 1px 2px rgba(60, 64, 67, 0.3), 0px 1px 3px 1px rgba(60, 64, 67, 0.15);\n",
              "      fill: #174EA6;\n",
              "    }\n",
              "\n",
              "    .colab-df-buttons div {\n",
              "      margin-bottom: 4px;\n",
              "    }\n",
              "\n",
              "    [theme=dark] .colab-df-convert {\n",
              "      background-color: #3B4455;\n",
              "      fill: #D2E3FC;\n",
              "    }\n",
              "\n",
              "    [theme=dark] .colab-df-convert:hover {\n",
              "      background-color: #434B5C;\n",
              "      box-shadow: 0px 1px 3px 1px rgba(0, 0, 0, 0.15);\n",
              "      filter: drop-shadow(0px 1px 2px rgba(0, 0, 0, 0.3));\n",
              "      fill: #FFFFFF;\n",
              "    }\n",
              "  </style>\n",
              "\n",
              "    <script>\n",
              "      const buttonEl =\n",
              "        document.querySelector('#df-12f63ed5-a74e-43f8-983e-99a842e7178e button.colab-df-convert');\n",
              "      buttonEl.style.display =\n",
              "        google.colab.kernel.accessAllowed ? 'block' : 'none';\n",
              "\n",
              "      async function convertToInteractive(key) {\n",
              "        const element = document.querySelector('#df-12f63ed5-a74e-43f8-983e-99a842e7178e');\n",
              "        const dataTable =\n",
              "          await google.colab.kernel.invokeFunction('convertToInteractive',\n",
              "                                                    [key], {});\n",
              "        if (!dataTable) return;\n",
              "\n",
              "        const docLinkHtml = 'Like what you see? Visit the ' +\n",
              "          '<a target=\"_blank\" href=https://colab.research.google.com/notebooks/data_table.ipynb>data table notebook</a>'\n",
              "          + ' to learn more about interactive tables.';\n",
              "        element.innerHTML = '';\n",
              "        dataTable['output_type'] = 'display_data';\n",
              "        await google.colab.output.renderOutput(dataTable, element);\n",
              "        const docLink = document.createElement('div');\n",
              "        docLink.innerHTML = docLinkHtml;\n",
              "        element.appendChild(docLink);\n",
              "      }\n",
              "    </script>\n",
              "  </div>\n",
              "\n",
              "\n",
              "<div id=\"df-bf2e2e77-fd97-447c-8910-6e43c6eb15c5\">\n",
              "  <button class=\"colab-df-quickchart\" onclick=\"quickchart('df-bf2e2e77-fd97-447c-8910-6e43c6eb15c5')\"\n",
              "            title=\"Suggest charts\"\n",
              "            style=\"display:none;\">\n",
              "\n",
              "<svg xmlns=\"http://www.w3.org/2000/svg\" height=\"24px\"viewBox=\"0 0 24 24\"\n",
              "     width=\"24px\">\n",
              "    <g>\n",
              "        <path d=\"M19 3H5c-1.1 0-2 .9-2 2v14c0 1.1.9 2 2 2h14c1.1 0 2-.9 2-2V5c0-1.1-.9-2-2-2zM9 17H7v-7h2v7zm4 0h-2V7h2v10zm4 0h-2v-4h2v4z\"/>\n",
              "    </g>\n",
              "</svg>\n",
              "  </button>\n",
              "\n",
              "<style>\n",
              "  .colab-df-quickchart {\n",
              "      --bg-color: #E8F0FE;\n",
              "      --fill-color: #1967D2;\n",
              "      --hover-bg-color: #E2EBFA;\n",
              "      --hover-fill-color: #174EA6;\n",
              "      --disabled-fill-color: #AAA;\n",
              "      --disabled-bg-color: #DDD;\n",
              "  }\n",
              "\n",
              "  [theme=dark] .colab-df-quickchart {\n",
              "      --bg-color: #3B4455;\n",
              "      --fill-color: #D2E3FC;\n",
              "      --hover-bg-color: #434B5C;\n",
              "      --hover-fill-color: #FFFFFF;\n",
              "      --disabled-bg-color: #3B4455;\n",
              "      --disabled-fill-color: #666;\n",
              "  }\n",
              "\n",
              "  .colab-df-quickchart {\n",
              "    background-color: var(--bg-color);\n",
              "    border: none;\n",
              "    border-radius: 50%;\n",
              "    cursor: pointer;\n",
              "    display: none;\n",
              "    fill: var(--fill-color);\n",
              "    height: 32px;\n",
              "    padding: 0;\n",
              "    width: 32px;\n",
              "  }\n",
              "\n",
              "  .colab-df-quickchart:hover {\n",
              "    background-color: var(--hover-bg-color);\n",
              "    box-shadow: 0 1px 2px rgba(60, 64, 67, 0.3), 0 1px 3px 1px rgba(60, 64, 67, 0.15);\n",
              "    fill: var(--button-hover-fill-color);\n",
              "  }\n",
              "\n",
              "  .colab-df-quickchart-complete:disabled,\n",
              "  .colab-df-quickchart-complete:disabled:hover {\n",
              "    background-color: var(--disabled-bg-color);\n",
              "    fill: var(--disabled-fill-color);\n",
              "    box-shadow: none;\n",
              "  }\n",
              "\n",
              "  .colab-df-spinner {\n",
              "    border: 2px solid var(--fill-color);\n",
              "    border-color: transparent;\n",
              "    border-bottom-color: var(--fill-color);\n",
              "    animation:\n",
              "      spin 1s steps(1) infinite;\n",
              "  }\n",
              "\n",
              "  @keyframes spin {\n",
              "    0% {\n",
              "      border-color: transparent;\n",
              "      border-bottom-color: var(--fill-color);\n",
              "      border-left-color: var(--fill-color);\n",
              "    }\n",
              "    20% {\n",
              "      border-color: transparent;\n",
              "      border-left-color: var(--fill-color);\n",
              "      border-top-color: var(--fill-color);\n",
              "    }\n",
              "    30% {\n",
              "      border-color: transparent;\n",
              "      border-left-color: var(--fill-color);\n",
              "      border-top-color: var(--fill-color);\n",
              "      border-right-color: var(--fill-color);\n",
              "    }\n",
              "    40% {\n",
              "      border-color: transparent;\n",
              "      border-right-color: var(--fill-color);\n",
              "      border-top-color: var(--fill-color);\n",
              "    }\n",
              "    60% {\n",
              "      border-color: transparent;\n",
              "      border-right-color: var(--fill-color);\n",
              "    }\n",
              "    80% {\n",
              "      border-color: transparent;\n",
              "      border-right-color: var(--fill-color);\n",
              "      border-bottom-color: var(--fill-color);\n",
              "    }\n",
              "    90% {\n",
              "      border-color: transparent;\n",
              "      border-bottom-color: var(--fill-color);\n",
              "    }\n",
              "  }\n",
              "</style>\n",
              "\n",
              "  <script>\n",
              "    async function quickchart(key) {\n",
              "      const quickchartButtonEl =\n",
              "        document.querySelector('#' + key + ' button');\n",
              "      quickchartButtonEl.disabled = true;  // To prevent multiple clicks.\n",
              "      quickchartButtonEl.classList.add('colab-df-spinner');\n",
              "      try {\n",
              "        const charts = await google.colab.kernel.invokeFunction(\n",
              "            'suggestCharts', [key], {});\n",
              "      } catch (error) {\n",
              "        console.error('Error during call to suggestCharts:', error);\n",
              "      }\n",
              "      quickchartButtonEl.classList.remove('colab-df-spinner');\n",
              "      quickchartButtonEl.classList.add('colab-df-quickchart-complete');\n",
              "    }\n",
              "    (() => {\n",
              "      let quickchartButtonEl =\n",
              "        document.querySelector('#df-bf2e2e77-fd97-447c-8910-6e43c6eb15c5 button');\n",
              "      quickchartButtonEl.style.display =\n",
              "        google.colab.kernel.accessAllowed ? 'block' : 'none';\n",
              "    })();\n",
              "  </script>\n",
              "</div>\n",
              "\n",
              "  <div id=\"id_45a08790-84cc-4993-8609-2011d2b1bd92\">\n",
              "    <style>\n",
              "      .colab-df-generate {\n",
              "        background-color: #E8F0FE;\n",
              "        border: none;\n",
              "        border-radius: 50%;\n",
              "        cursor: pointer;\n",
              "        display: none;\n",
              "        fill: #1967D2;\n",
              "        height: 32px;\n",
              "        padding: 0 0 0 0;\n",
              "        width: 32px;\n",
              "      }\n",
              "\n",
              "      .colab-df-generate:hover {\n",
              "        background-color: #E2EBFA;\n",
              "        box-shadow: 0px 1px 2px rgba(60, 64, 67, 0.3), 0px 1px 3px 1px rgba(60, 64, 67, 0.15);\n",
              "        fill: #174EA6;\n",
              "      }\n",
              "\n",
              "      [theme=dark] .colab-df-generate {\n",
              "        background-color: #3B4455;\n",
              "        fill: #D2E3FC;\n",
              "      }\n",
              "\n",
              "      [theme=dark] .colab-df-generate:hover {\n",
              "        background-color: #434B5C;\n",
              "        box-shadow: 0px 1px 3px 1px rgba(0, 0, 0, 0.15);\n",
              "        filter: drop-shadow(0px 1px 2px rgba(0, 0, 0, 0.3));\n",
              "        fill: #FFFFFF;\n",
              "      }\n",
              "    </style>\n",
              "    <button class=\"colab-df-generate\" onclick=\"generateWithVariable('dataset')\"\n",
              "            title=\"Generate code using this dataframe.\"\n",
              "            style=\"display:none;\">\n",
              "\n",
              "  <svg xmlns=\"http://www.w3.org/2000/svg\" height=\"24px\"viewBox=\"0 0 24 24\"\n",
              "       width=\"24px\">\n",
              "    <path d=\"M7,19H8.4L18.45,9,17,7.55,7,17.6ZM5,21V16.75L18.45,3.32a2,2,0,0,1,2.83,0l1.4,1.43a1.91,1.91,0,0,1,.58,1.4,1.91,1.91,0,0,1-.58,1.4L9.25,21ZM18.45,9,17,7.55Zm-12,3A5.31,5.31,0,0,0,4.9,8.1,5.31,5.31,0,0,0,1,6.5,5.31,5.31,0,0,0,4.9,4.9,5.31,5.31,0,0,0,6.5,1,5.31,5.31,0,0,0,8.1,4.9,5.31,5.31,0,0,0,12,6.5,5.46,5.46,0,0,0,6.5,12Z\"/>\n",
              "  </svg>\n",
              "    </button>\n",
              "    <script>\n",
              "      (() => {\n",
              "      const buttonEl =\n",
              "        document.querySelector('#id_45a08790-84cc-4993-8609-2011d2b1bd92 button.colab-df-generate');\n",
              "      buttonEl.style.display =\n",
              "        google.colab.kernel.accessAllowed ? 'block' : 'none';\n",
              "\n",
              "      buttonEl.onclick = () => {\n",
              "        google.colab.notebook.generateWithVariable('dataset');\n",
              "      }\n",
              "      })();\n",
              "    </script>\n",
              "  </div>\n",
              "\n",
              "    </div>\n",
              "  </div>\n"
            ],
            "text/plain": [
              "          Weight    Height        BMI  Body Fat Percentage  BFPcase  Gender  \\\n",
              "0      76.811975  1.820521  23.175956            18.281148        2       0   \n",
              "1      77.721154  1.945498  20.534184            13.731021        3       0   \n",
              "2      87.558726  1.742754  28.828859            42.304631        1       1   \n",
              "3      89.473356  1.758318  28.940017            27.958021        1       0   \n",
              "4      69.963943  1.722570  23.578732            16.464478        3       0   \n",
              "...          ...       ...        ...                  ...      ...     ...   \n",
              "4995   87.003054  1.902891  24.027404            16.772884        3       0   \n",
              "4996   92.121555  1.779346  29.096464            30.215757        1       0   \n",
              "4997  105.298845  1.972883  27.053345            31.214014        1       0   \n",
              "4998   90.411999  1.803409  27.799528            29.579434        1       0   \n",
              "4999   54.641104  1.402966  27.760382            42.862459        1       1   \n",
              "\n",
              "      Age  BMIcase  Exercise Recommendation Plan  \n",
              "0      29        4                             4  \n",
              "1      23        4                             4  \n",
              "2      57        5                             5  \n",
              "3      41        5                             5  \n",
              "4      19        4                             4  \n",
              "...   ...      ...                           ...  \n",
              "4995   18        4                             4  \n",
              "4996   50        5                             5  \n",
              "4997   65        5                             5  \n",
              "4998   54        5                             5  \n",
              "4999   65        5                             5  \n",
              "\n",
              "[5000 rows x 9 columns]"
            ]
          },
          "execution_count": 17,
          "metadata": {},
          "output_type": "execute_result"
        }
      ],
      "source": [
        "dataset"
      ]
    },
    {
      "cell_type": "markdown",
      "metadata": {
        "id": "O_r1oelj-aY4"
      },
      "source": [
        "**All columns of Dataset**\n"
      ]
    },
    {
      "cell_type": "code",
      "execution_count": null,
      "metadata": {
        "colab": {
          "base_uri": "https://localhost:8080/"
        },
        "id": "swn63Doz-e4H",
        "outputId": "3bb3ff22-57c7-483d-ed58-068f8bec008a"
      },
      "outputs": [
        {
          "name": "stdout",
          "output_type": "stream",
          "text": [
            "Index(['Weight', 'Height', 'BMI', 'Body Fat Percentage', 'BFPcase', 'Gender',\n",
            "       'Age', 'BMIcase', 'Exercise Recommendation Plan'],\n",
            "      dtype='object')\n"
          ]
        }
      ],
      "source": [
        "print(dataset.columns)"
      ]
    },
    {
      "cell_type": "markdown",
      "metadata": {
        "id": "Lqm6Khjh-vuj"
      },
      "source": [
        "**Droping Target Variable From Dataset**"
      ]
    },
    {
      "cell_type": "code",
      "execution_count": null,
      "metadata": {
        "id": "-mFF8JAg-1Lg"
      },
      "outputs": [],
      "source": [
        "X = dataset.drop('Exercise Recommendation Plan', axis=1)\n",
        "y = dataset['Exercise Recommendation Plan']"
      ]
    },
    {
      "cell_type": "code",
      "source": [
        "joblib.dump(encoder, 'encoder.pkl')\n",
        "joblib.dump(scaler, 'scaler.pkl')\n",
        "joblib.dump(X_encoded.columns.tolist(), 'feature_names.pkl')"
      ],
      "metadata": {
        "colab": {
          "base_uri": "https://localhost:8080/"
        },
        "id": "-2B0ZSeLQEY3",
        "outputId": "ad4ac2b2-0cc3-4f32-e9c3-c8b0fe0f7193"
      },
      "execution_count": null,
      "outputs": [
        {
          "output_type": "execute_result",
          "data": {
            "text/plain": [
              "['feature_names.pkl']"
            ]
          },
          "metadata": {},
          "execution_count": 65
        }
      ]
    },
    {
      "cell_type": "markdown",
      "metadata": {
        "id": "o0d_ppzX-5s0"
      },
      "source": [
        "***Data  Preprocessing and Feature Engineering ***"
      ]
    },
    {
      "cell_type": "code",
      "execution_count": null,
      "metadata": {
        "colab": {
          "base_uri": "https://localhost:8080/"
        },
        "id": "n-ebKSPk_BrB",
        "outputId": "4e8bd0b4-df80-4031-c61c-1171a0b90a37"
      },
      "outputs": [
        {
          "output_type": "stream",
          "name": "stdout",
          "text": [
            "Number of input features: 18\n"
          ]
        }
      ],
      "source": [
        "from sklearn.preprocessing import StandardScaler, OneHotEncoder\n",
        "import pandas as pd\n",
        "\n",
        "# Convert BMIcase and BFPcase categories to integers\n",
        "dataset['BMIcase'] = dataset['BMIcase'].astype('category').cat.codes\n",
        "dataset['BFPcase'] = dataset['BFPcase'].astype('category').cat.codes\n",
        "\n",
        "# Split the dataset into features and target variable\n",
        "X = dataset.drop('Exercise Recommendation Plan', axis=1)\n",
        "y = dataset['Exercise Recommendation Plan']\n",
        "\n",
        "# Encode categorical variables (Gender)\n",
        "encoder = OneHotEncoder(sparse_output=False)\n",
        "encoded_gender = encoder.fit_transform(dataset[['Gender']])\n",
        "\n",
        "# One-hot encode BMIcase column\n",
        "encoded_bmicase = pd.get_dummies(dataset['BMIcase'], prefix='BMIcase')\n",
        "\n",
        "# One-hot encode BFPcase column\n",
        "encoded_bfp = pd.get_dummies(dataset['BFPcase'], prefix='BFPcase')\n",
        "\n",
        "# Scale numerical features (Weight, Height, BMI, Body Fat Percentage, Age)\n",
        "scaler = StandardScaler()\n",
        "numerical_features = ['Weight', 'Height', 'BMI', 'Body Fat Percentage', 'Age']\n",
        "scaled_features = scaler.fit_transform(X[numerical_features])\n",
        "\n",
        "# Create DataFrame for scaled numerical features\n",
        "scaled_features_df = pd.DataFrame(scaled_features, columns=numerical_features)\n",
        "\n",
        "# Convert encoded arrays to DataFrames\n",
        "encoded_gender_df = pd.DataFrame(encoded_gender, columns=encoder.get_feature_names_out(['Gender']))\n",
        "encoded_bmicase_df = pd.DataFrame(encoded_bmicase)\n",
        "encoded_bfp_df = pd.DataFrame(encoded_bfp)\n",
        "\n",
        "# Concatenate all features\n",
        "X_encoded = pd.concat([scaled_features_df.reset_index(drop=True), encoded_gender_df, encoded_bmicase_df, encoded_bfp_df], axis=1)\n",
        "\n",
        "# Output the number of input features\n",
        "num_input_features = X_encoded.shape[1]\n",
        "print(\"Number of input features:\", num_input_features)\n",
        "\n",
        "# Features and labels\n",
        "features = X_encoded\n",
        "labels = y\n"
      ]
    },
    {
      "cell_type": "code",
      "execution_count": null,
      "metadata": {
        "colab": {
          "base_uri": "https://localhost:8080/"
        },
        "id": "PLbf9TgV_KtF",
        "outputId": "28829931-2010-4561-9ed3-8acac0b5ac78"
      },
      "outputs": [
        {
          "output_type": "stream",
          "name": "stdout",
          "text": [
            "Number of input features: 8\n"
          ]
        }
      ],
      "source": [
        "num_input_features = X.shape[1]\n",
        "print(\"Number of input features:\", num_input_features)"
      ]
    },
    {
      "cell_type": "markdown",
      "metadata": {
        "id": "LgK1b6qY_QRF"
      },
      "source": [
        "**Data Preprocessing for Machine Learning Model**"
      ]
    },
    {
      "cell_type": "code",
      "execution_count": null,
      "metadata": {
        "colab": {
          "base_uri": "https://localhost:8080/"
        },
        "id": "gqyRIl6g_S4g",
        "outputId": "651a3a59-ecaf-4c15-965a-465a68d034de"
      },
      "outputs": [
        {
          "output_type": "stream",
          "name": "stdout",
          "text": [
            "Number of input features: 15\n"
          ]
        }
      ],
      "source": [
        "# Extract numerical features (excluding the encoded ones)\n",
        "numerical_features = X.drop(columns=['Gender', 'BFPcase'])\n",
        "\n",
        "# Normalize numerical features\n",
        "normalized_numerical_features = scaler.fit_transform(numerical_features)\n",
        "\n",
        "# Create DataFrame for normalized numerical features\n",
        "normalized_numerical_features_df = pd.DataFrame(normalized_numerical_features, columns=numerical_features.columns)\n",
        "\n",
        "# Convert encoded arrays to DataFrames\n",
        "encoded_gender_df = pd.DataFrame(encoded_gender, columns=encoder.get_feature_names_out(['Gender']))\n",
        "encoded_bmicase_df = pd.DataFrame(encoded_bmicase)\n",
        "\n",
        "# Concatenate the normalized numerical features with the encoded features\n",
        "X_encoded = pd.concat([normalized_numerical_features_df.reset_index(drop=True), encoded_gender_df, encoded_bmicase_df], axis=1)\n",
        "\n",
        "# Output the number of input features\n",
        "num_input_features = X_encoded.shape[1]\n",
        "print(\"Number of input features:\", num_input_features)"
      ]
    },
    {
      "cell_type": "markdown",
      "source": [
        "**Looking Dataset After Preprocessing**"
      ],
      "metadata": {
        "id": "RM9PlAZDCRAA"
      }
    },
    {
      "cell_type": "code",
      "source": [
        "dataset"
      ],
      "metadata": {
        "colab": {
          "base_uri": "https://localhost:8080/",
          "height": 441
        },
        "id": "U7tyKXkRCVCE",
        "outputId": "ad23eba1-0889-45c6-a7dc-0f77881e4e49"
      },
      "execution_count": null,
      "outputs": [
        {
          "output_type": "execute_result",
          "data": {
            "text/plain": [
              "          Weight    Height        BMI  Body Fat Percentage  BFPcase  Gender  \\\n",
              "0      76.811975  1.820521  23.175956            18.281148        1       0   \n",
              "1      77.721154  1.945498  20.534184            13.731021        2       0   \n",
              "2      87.558726  1.742754  28.828859            42.304631        0       1   \n",
              "3      89.473356  1.758318  28.940017            27.958021        0       0   \n",
              "4      69.963943  1.722570  23.578732            16.464478        2       0   \n",
              "...          ...       ...        ...                  ...      ...     ...   \n",
              "4995   87.003054  1.902891  24.027404            16.772884        2       0   \n",
              "4996   92.121555  1.779346  29.096464            30.215757        0       0   \n",
              "4997  105.298845  1.972883  27.053345            31.214014        0       0   \n",
              "4998   90.411999  1.803409  27.799528            29.579434        0       0   \n",
              "4999   54.641104  1.402966  27.760382            42.862459        0       1   \n",
              "\n",
              "      Age  BMIcase  Exercise Recommendation Plan  \n",
              "0      29        3                             4  \n",
              "1      23        3                             4  \n",
              "2      57        4                             5  \n",
              "3      41        4                             5  \n",
              "4      19        3                             4  \n",
              "...   ...      ...                           ...  \n",
              "4995   18        3                             4  \n",
              "4996   50        4                             5  \n",
              "4997   65        4                             5  \n",
              "4998   54        4                             5  \n",
              "4999   65        4                             5  \n",
              "\n",
              "[5000 rows x 9 columns]"
            ],
            "text/html": [
              "\n",
              "  <div id=\"df-3c201450-79ca-4713-b817-b1acd084a416\" class=\"colab-df-container\">\n",
              "    <div>\n",
              "<style scoped>\n",
              "    .dataframe tbody tr th:only-of-type {\n",
              "        vertical-align: middle;\n",
              "    }\n",
              "\n",
              "    .dataframe tbody tr th {\n",
              "        vertical-align: top;\n",
              "    }\n",
              "\n",
              "    .dataframe thead th {\n",
              "        text-align: right;\n",
              "    }\n",
              "</style>\n",
              "<table border=\"1\" class=\"dataframe\">\n",
              "  <thead>\n",
              "    <tr style=\"text-align: right;\">\n",
              "      <th></th>\n",
              "      <th>Weight</th>\n",
              "      <th>Height</th>\n",
              "      <th>BMI</th>\n",
              "      <th>Body Fat Percentage</th>\n",
              "      <th>BFPcase</th>\n",
              "      <th>Gender</th>\n",
              "      <th>Age</th>\n",
              "      <th>BMIcase</th>\n",
              "      <th>Exercise Recommendation Plan</th>\n",
              "    </tr>\n",
              "  </thead>\n",
              "  <tbody>\n",
              "    <tr>\n",
              "      <th>0</th>\n",
              "      <td>76.811975</td>\n",
              "      <td>1.820521</td>\n",
              "      <td>23.175956</td>\n",
              "      <td>18.281148</td>\n",
              "      <td>1</td>\n",
              "      <td>0</td>\n",
              "      <td>29</td>\n",
              "      <td>3</td>\n",
              "      <td>4</td>\n",
              "    </tr>\n",
              "    <tr>\n",
              "      <th>1</th>\n",
              "      <td>77.721154</td>\n",
              "      <td>1.945498</td>\n",
              "      <td>20.534184</td>\n",
              "      <td>13.731021</td>\n",
              "      <td>2</td>\n",
              "      <td>0</td>\n",
              "      <td>23</td>\n",
              "      <td>3</td>\n",
              "      <td>4</td>\n",
              "    </tr>\n",
              "    <tr>\n",
              "      <th>2</th>\n",
              "      <td>87.558726</td>\n",
              "      <td>1.742754</td>\n",
              "      <td>28.828859</td>\n",
              "      <td>42.304631</td>\n",
              "      <td>0</td>\n",
              "      <td>1</td>\n",
              "      <td>57</td>\n",
              "      <td>4</td>\n",
              "      <td>5</td>\n",
              "    </tr>\n",
              "    <tr>\n",
              "      <th>3</th>\n",
              "      <td>89.473356</td>\n",
              "      <td>1.758318</td>\n",
              "      <td>28.940017</td>\n",
              "      <td>27.958021</td>\n",
              "      <td>0</td>\n",
              "      <td>0</td>\n",
              "      <td>41</td>\n",
              "      <td>4</td>\n",
              "      <td>5</td>\n",
              "    </tr>\n",
              "    <tr>\n",
              "      <th>4</th>\n",
              "      <td>69.963943</td>\n",
              "      <td>1.722570</td>\n",
              "      <td>23.578732</td>\n",
              "      <td>16.464478</td>\n",
              "      <td>2</td>\n",
              "      <td>0</td>\n",
              "      <td>19</td>\n",
              "      <td>3</td>\n",
              "      <td>4</td>\n",
              "    </tr>\n",
              "    <tr>\n",
              "      <th>...</th>\n",
              "      <td>...</td>\n",
              "      <td>...</td>\n",
              "      <td>...</td>\n",
              "      <td>...</td>\n",
              "      <td>...</td>\n",
              "      <td>...</td>\n",
              "      <td>...</td>\n",
              "      <td>...</td>\n",
              "      <td>...</td>\n",
              "    </tr>\n",
              "    <tr>\n",
              "      <th>4995</th>\n",
              "      <td>87.003054</td>\n",
              "      <td>1.902891</td>\n",
              "      <td>24.027404</td>\n",
              "      <td>16.772884</td>\n",
              "      <td>2</td>\n",
              "      <td>0</td>\n",
              "      <td>18</td>\n",
              "      <td>3</td>\n",
              "      <td>4</td>\n",
              "    </tr>\n",
              "    <tr>\n",
              "      <th>4996</th>\n",
              "      <td>92.121555</td>\n",
              "      <td>1.779346</td>\n",
              "      <td>29.096464</td>\n",
              "      <td>30.215757</td>\n",
              "      <td>0</td>\n",
              "      <td>0</td>\n",
              "      <td>50</td>\n",
              "      <td>4</td>\n",
              "      <td>5</td>\n",
              "    </tr>\n",
              "    <tr>\n",
              "      <th>4997</th>\n",
              "      <td>105.298845</td>\n",
              "      <td>1.972883</td>\n",
              "      <td>27.053345</td>\n",
              "      <td>31.214014</td>\n",
              "      <td>0</td>\n",
              "      <td>0</td>\n",
              "      <td>65</td>\n",
              "      <td>4</td>\n",
              "      <td>5</td>\n",
              "    </tr>\n",
              "    <tr>\n",
              "      <th>4998</th>\n",
              "      <td>90.411999</td>\n",
              "      <td>1.803409</td>\n",
              "      <td>27.799528</td>\n",
              "      <td>29.579434</td>\n",
              "      <td>0</td>\n",
              "      <td>0</td>\n",
              "      <td>54</td>\n",
              "      <td>4</td>\n",
              "      <td>5</td>\n",
              "    </tr>\n",
              "    <tr>\n",
              "      <th>4999</th>\n",
              "      <td>54.641104</td>\n",
              "      <td>1.402966</td>\n",
              "      <td>27.760382</td>\n",
              "      <td>42.862459</td>\n",
              "      <td>0</td>\n",
              "      <td>1</td>\n",
              "      <td>65</td>\n",
              "      <td>4</td>\n",
              "      <td>5</td>\n",
              "    </tr>\n",
              "  </tbody>\n",
              "</table>\n",
              "<p>5000 rows × 9 columns</p>\n",
              "</div>\n",
              "    <div class=\"colab-df-buttons\">\n",
              "\n",
              "  <div class=\"colab-df-container\">\n",
              "    <button class=\"colab-df-convert\" onclick=\"convertToInteractive('df-3c201450-79ca-4713-b817-b1acd084a416')\"\n",
              "            title=\"Convert this dataframe to an interactive table.\"\n",
              "            style=\"display:none;\">\n",
              "\n",
              "  <svg xmlns=\"http://www.w3.org/2000/svg\" height=\"24px\" viewBox=\"0 -960 960 960\">\n",
              "    <path d=\"M120-120v-720h720v720H120Zm60-500h600v-160H180v160Zm220 220h160v-160H400v160Zm0 220h160v-160H400v160ZM180-400h160v-160H180v160Zm440 0h160v-160H620v160ZM180-180h160v-160H180v160Zm440 0h160v-160H620v160Z\"/>\n",
              "  </svg>\n",
              "    </button>\n",
              "\n",
              "  <style>\n",
              "    .colab-df-container {\n",
              "      display:flex;\n",
              "      gap: 12px;\n",
              "    }\n",
              "\n",
              "    .colab-df-convert {\n",
              "      background-color: #E8F0FE;\n",
              "      border: none;\n",
              "      border-radius: 50%;\n",
              "      cursor: pointer;\n",
              "      display: none;\n",
              "      fill: #1967D2;\n",
              "      height: 32px;\n",
              "      padding: 0 0 0 0;\n",
              "      width: 32px;\n",
              "    }\n",
              "\n",
              "    .colab-df-convert:hover {\n",
              "      background-color: #E2EBFA;\n",
              "      box-shadow: 0px 1px 2px rgba(60, 64, 67, 0.3), 0px 1px 3px 1px rgba(60, 64, 67, 0.15);\n",
              "      fill: #174EA6;\n",
              "    }\n",
              "\n",
              "    .colab-df-buttons div {\n",
              "      margin-bottom: 4px;\n",
              "    }\n",
              "\n",
              "    [theme=dark] .colab-df-convert {\n",
              "      background-color: #3B4455;\n",
              "      fill: #D2E3FC;\n",
              "    }\n",
              "\n",
              "    [theme=dark] .colab-df-convert:hover {\n",
              "      background-color: #434B5C;\n",
              "      box-shadow: 0px 1px 3px 1px rgba(0, 0, 0, 0.15);\n",
              "      filter: drop-shadow(0px 1px 2px rgba(0, 0, 0, 0.3));\n",
              "      fill: #FFFFFF;\n",
              "    }\n",
              "  </style>\n",
              "\n",
              "    <script>\n",
              "      const buttonEl =\n",
              "        document.querySelector('#df-3c201450-79ca-4713-b817-b1acd084a416 button.colab-df-convert');\n",
              "      buttonEl.style.display =\n",
              "        google.colab.kernel.accessAllowed ? 'block' : 'none';\n",
              "\n",
              "      async function convertToInteractive(key) {\n",
              "        const element = document.querySelector('#df-3c201450-79ca-4713-b817-b1acd084a416');\n",
              "        const dataTable =\n",
              "          await google.colab.kernel.invokeFunction('convertToInteractive',\n",
              "                                                    [key], {});\n",
              "        if (!dataTable) return;\n",
              "\n",
              "        const docLinkHtml = 'Like what you see? Visit the ' +\n",
              "          '<a target=\"_blank\" href=https://colab.research.google.com/notebooks/data_table.ipynb>data table notebook</a>'\n",
              "          + ' to learn more about interactive tables.';\n",
              "        element.innerHTML = '';\n",
              "        dataTable['output_type'] = 'display_data';\n",
              "        await google.colab.output.renderOutput(dataTable, element);\n",
              "        const docLink = document.createElement('div');\n",
              "        docLink.innerHTML = docLinkHtml;\n",
              "        element.appendChild(docLink);\n",
              "      }\n",
              "    </script>\n",
              "  </div>\n",
              "\n",
              "\n",
              "<div id=\"df-44fe9a78-0dbb-4d60-9c49-ef2379a10e40\">\n",
              "  <button class=\"colab-df-quickchart\" onclick=\"quickchart('df-44fe9a78-0dbb-4d60-9c49-ef2379a10e40')\"\n",
              "            title=\"Suggest charts\"\n",
              "            style=\"display:none;\">\n",
              "\n",
              "<svg xmlns=\"http://www.w3.org/2000/svg\" height=\"24px\"viewBox=\"0 0 24 24\"\n",
              "     width=\"24px\">\n",
              "    <g>\n",
              "        <path d=\"M19 3H5c-1.1 0-2 .9-2 2v14c0 1.1.9 2 2 2h14c1.1 0 2-.9 2-2V5c0-1.1-.9-2-2-2zM9 17H7v-7h2v7zm4 0h-2V7h2v10zm4 0h-2v-4h2v4z\"/>\n",
              "    </g>\n",
              "</svg>\n",
              "  </button>\n",
              "\n",
              "<style>\n",
              "  .colab-df-quickchart {\n",
              "      --bg-color: #E8F0FE;\n",
              "      --fill-color: #1967D2;\n",
              "      --hover-bg-color: #E2EBFA;\n",
              "      --hover-fill-color: #174EA6;\n",
              "      --disabled-fill-color: #AAA;\n",
              "      --disabled-bg-color: #DDD;\n",
              "  }\n",
              "\n",
              "  [theme=dark] .colab-df-quickchart {\n",
              "      --bg-color: #3B4455;\n",
              "      --fill-color: #D2E3FC;\n",
              "      --hover-bg-color: #434B5C;\n",
              "      --hover-fill-color: #FFFFFF;\n",
              "      --disabled-bg-color: #3B4455;\n",
              "      --disabled-fill-color: #666;\n",
              "  }\n",
              "\n",
              "  .colab-df-quickchart {\n",
              "    background-color: var(--bg-color);\n",
              "    border: none;\n",
              "    border-radius: 50%;\n",
              "    cursor: pointer;\n",
              "    display: none;\n",
              "    fill: var(--fill-color);\n",
              "    height: 32px;\n",
              "    padding: 0;\n",
              "    width: 32px;\n",
              "  }\n",
              "\n",
              "  .colab-df-quickchart:hover {\n",
              "    background-color: var(--hover-bg-color);\n",
              "    box-shadow: 0 1px 2px rgba(60, 64, 67, 0.3), 0 1px 3px 1px rgba(60, 64, 67, 0.15);\n",
              "    fill: var(--button-hover-fill-color);\n",
              "  }\n",
              "\n",
              "  .colab-df-quickchart-complete:disabled,\n",
              "  .colab-df-quickchart-complete:disabled:hover {\n",
              "    background-color: var(--disabled-bg-color);\n",
              "    fill: var(--disabled-fill-color);\n",
              "    box-shadow: none;\n",
              "  }\n",
              "\n",
              "  .colab-df-spinner {\n",
              "    border: 2px solid var(--fill-color);\n",
              "    border-color: transparent;\n",
              "    border-bottom-color: var(--fill-color);\n",
              "    animation:\n",
              "      spin 1s steps(1) infinite;\n",
              "  }\n",
              "\n",
              "  @keyframes spin {\n",
              "    0% {\n",
              "      border-color: transparent;\n",
              "      border-bottom-color: var(--fill-color);\n",
              "      border-left-color: var(--fill-color);\n",
              "    }\n",
              "    20% {\n",
              "      border-color: transparent;\n",
              "      border-left-color: var(--fill-color);\n",
              "      border-top-color: var(--fill-color);\n",
              "    }\n",
              "    30% {\n",
              "      border-color: transparent;\n",
              "      border-left-color: var(--fill-color);\n",
              "      border-top-color: var(--fill-color);\n",
              "      border-right-color: var(--fill-color);\n",
              "    }\n",
              "    40% {\n",
              "      border-color: transparent;\n",
              "      border-right-color: var(--fill-color);\n",
              "      border-top-color: var(--fill-color);\n",
              "    }\n",
              "    60% {\n",
              "      border-color: transparent;\n",
              "      border-right-color: var(--fill-color);\n",
              "    }\n",
              "    80% {\n",
              "      border-color: transparent;\n",
              "      border-right-color: var(--fill-color);\n",
              "      border-bottom-color: var(--fill-color);\n",
              "    }\n",
              "    90% {\n",
              "      border-color: transparent;\n",
              "      border-bottom-color: var(--fill-color);\n",
              "    }\n",
              "  }\n",
              "</style>\n",
              "\n",
              "  <script>\n",
              "    async function quickchart(key) {\n",
              "      const quickchartButtonEl =\n",
              "        document.querySelector('#' + key + ' button');\n",
              "      quickchartButtonEl.disabled = true;  // To prevent multiple clicks.\n",
              "      quickchartButtonEl.classList.add('colab-df-spinner');\n",
              "      try {\n",
              "        const charts = await google.colab.kernel.invokeFunction(\n",
              "            'suggestCharts', [key], {});\n",
              "      } catch (error) {\n",
              "        console.error('Error during call to suggestCharts:', error);\n",
              "      }\n",
              "      quickchartButtonEl.classList.remove('colab-df-spinner');\n",
              "      quickchartButtonEl.classList.add('colab-df-quickchart-complete');\n",
              "    }\n",
              "    (() => {\n",
              "      let quickchartButtonEl =\n",
              "        document.querySelector('#df-44fe9a78-0dbb-4d60-9c49-ef2379a10e40 button');\n",
              "      quickchartButtonEl.style.display =\n",
              "        google.colab.kernel.accessAllowed ? 'block' : 'none';\n",
              "    })();\n",
              "  </script>\n",
              "</div>\n",
              "\n",
              "  <div id=\"id_b1ad496f-dfc3-41a1-a819-f5f52bd9dd99\">\n",
              "    <style>\n",
              "      .colab-df-generate {\n",
              "        background-color: #E8F0FE;\n",
              "        border: none;\n",
              "        border-radius: 50%;\n",
              "        cursor: pointer;\n",
              "        display: none;\n",
              "        fill: #1967D2;\n",
              "        height: 32px;\n",
              "        padding: 0 0 0 0;\n",
              "        width: 32px;\n",
              "      }\n",
              "\n",
              "      .colab-df-generate:hover {\n",
              "        background-color: #E2EBFA;\n",
              "        box-shadow: 0px 1px 2px rgba(60, 64, 67, 0.3), 0px 1px 3px 1px rgba(60, 64, 67, 0.15);\n",
              "        fill: #174EA6;\n",
              "      }\n",
              "\n",
              "      [theme=dark] .colab-df-generate {\n",
              "        background-color: #3B4455;\n",
              "        fill: #D2E3FC;\n",
              "      }\n",
              "\n",
              "      [theme=dark] .colab-df-generate:hover {\n",
              "        background-color: #434B5C;\n",
              "        box-shadow: 0px 1px 3px 1px rgba(0, 0, 0, 0.15);\n",
              "        filter: drop-shadow(0px 1px 2px rgba(0, 0, 0, 0.3));\n",
              "        fill: #FFFFFF;\n",
              "      }\n",
              "    </style>\n",
              "    <button class=\"colab-df-generate\" onclick=\"generateWithVariable('dataset')\"\n",
              "            title=\"Generate code using this dataframe.\"\n",
              "            style=\"display:none;\">\n",
              "\n",
              "  <svg xmlns=\"http://www.w3.org/2000/svg\" height=\"24px\"viewBox=\"0 0 24 24\"\n",
              "       width=\"24px\">\n",
              "    <path d=\"M7,19H8.4L18.45,9,17,7.55,7,17.6ZM5,21V16.75L18.45,3.32a2,2,0,0,1,2.83,0l1.4,1.43a1.91,1.91,0,0,1,.58,1.4,1.91,1.91,0,0,1-.58,1.4L9.25,21ZM18.45,9,17,7.55Zm-12,3A5.31,5.31,0,0,0,4.9,8.1,5.31,5.31,0,0,0,1,6.5,5.31,5.31,0,0,0,4.9,4.9,5.31,5.31,0,0,0,6.5,1,5.31,5.31,0,0,0,8.1,4.9,5.31,5.31,0,0,0,12,6.5,5.46,5.46,0,0,0,6.5,12Z\"/>\n",
              "  </svg>\n",
              "    </button>\n",
              "    <script>\n",
              "      (() => {\n",
              "      const buttonEl =\n",
              "        document.querySelector('#id_b1ad496f-dfc3-41a1-a819-f5f52bd9dd99 button.colab-df-generate');\n",
              "      buttonEl.style.display =\n",
              "        google.colab.kernel.accessAllowed ? 'block' : 'none';\n",
              "\n",
              "      buttonEl.onclick = () => {\n",
              "        google.colab.notebook.generateWithVariable('dataset');\n",
              "      }\n",
              "      })();\n",
              "    </script>\n",
              "  </div>\n",
              "\n",
              "    </div>\n",
              "  </div>\n"
            ],
            "application/vnd.google.colaboratory.intrinsic+json": {
              "type": "dataframe",
              "variable_name": "dataset",
              "summary": "{\n  \"name\": \"dataset\",\n  \"rows\": 5000,\n  \"fields\": [\n    {\n      \"column\": \"Weight\",\n      \"properties\": {\n        \"dtype\": \"number\",\n        \"std\": 17.16130379122062,\n        \"min\": 50.00455882,\n        \"max\": 109.9867312,\n        \"num_unique_values\": 5000,\n        \"samples\": [\n          105.7804075,\n          55.80496819,\n          71.11509872\n        ],\n        \"semantic_type\": \"\",\n        \"description\": \"\"\n      }\n    },\n    {\n      \"column\": \"Height\",\n      \"properties\": {\n        \"dtype\": \"number\",\n        \"std\": 0.12863494693202396,\n        \"min\": 1.391626854,\n        \"max\": 1.979956422,\n        \"num_unique_values\": 5000,\n        \"samples\": [\n          1.813276573,\n          1.711903962,\n          1.687580421\n        ],\n        \"semantic_type\": \"\",\n        \"description\": \"\"\n      }\n    },\n    {\n      \"column\": \"BMI\",\n      \"properties\": {\n        \"dtype\": \"number\",\n        \"std\": 5.601313409605712,\n        \"min\": 13.09971587,\n        \"max\": 34.99692799,\n        \"num_unique_values\": 5000,\n        \"samples\": [\n          32.17193146,\n          19.04206621,\n          24.97082326\n        ],\n        \"semantic_type\": \"\",\n        \"description\": \"\"\n      }\n    },\n    {\n      \"column\": \"Body Fat Percentage\",\n      \"properties\": {\n        \"dtype\": \"number\",\n        \"std\": 10.804124548467195,\n        \"min\": 5.180450273,\n        \"max\": 51.42849724,\n        \"num_unique_values\": 5000,\n        \"samples\": [\n          42.63631775,\n          20.22047945,\n          34.22498791\n        ],\n        \"semantic_type\": \"\",\n        \"description\": \"\"\n      }\n    },\n    {\n      \"column\": \"BFPcase\",\n      \"properties\": {\n        \"dtype\": \"int8\",\n        \"num_unique_values\": 4,\n        \"samples\": [\n          2,\n          3,\n          1\n        ],\n        \"semantic_type\": \"\",\n        \"description\": \"\"\n      }\n    },\n    {\n      \"column\": \"Gender\",\n      \"properties\": {\n        \"dtype\": \"number\",\n        \"std\": 0,\n        \"min\": 0,\n        \"max\": 1,\n        \"num_unique_values\": 2,\n        \"samples\": [\n          1,\n          0\n        ],\n        \"semantic_type\": \"\",\n        \"description\": \"\"\n      }\n    },\n    {\n      \"column\": \"Age\",\n      \"properties\": {\n        \"dtype\": \"number\",\n        \"std\": 13,\n        \"min\": 18,\n        \"max\": 65,\n        \"num_unique_values\": 48,\n        \"samples\": [\n          28,\n          38\n        ],\n        \"semantic_type\": \"\",\n        \"description\": \"\"\n      }\n    },\n    {\n      \"column\": \"BMIcase\",\n      \"properties\": {\n        \"dtype\": \"int8\",\n        \"num_unique_values\": 7,\n        \"samples\": [\n          3,\n          4\n        ],\n        \"semantic_type\": \"\",\n        \"description\": \"\"\n      }\n    },\n    {\n      \"column\": \"Exercise Recommendation Plan\",\n      \"properties\": {\n        \"dtype\": \"number\",\n        \"std\": 1,\n        \"min\": 1,\n        \"max\": 7,\n        \"num_unique_values\": 7,\n        \"samples\": [\n          4,\n          5\n        ],\n        \"semantic_type\": \"\",\n        \"description\": \"\"\n      }\n    }\n  ]\n}"
            }
          },
          "metadata": {},
          "execution_count": 69
        }
      ]
    },
    {
      "cell_type": "markdown",
      "source": [
        "**Normalizing Numerical Features**\n"
      ],
      "metadata": {
        "id": "IiHK2l0gCd4_"
      }
    },
    {
      "cell_type": "code",
      "source": [
        "from sklearn.preprocessing import StandardScaler\n",
        "\n",
        "# Normalize numerical features (Weight, BMI, Height, Age, Body Fat Percentage)\n",
        "scaler = StandardScaler()\n",
        "scaled_features = scaler.fit_transform(dataset[['Weight', 'BMI', 'Height', 'Age', 'Body Fat Percentage']])\n",
        "\n",
        "# Combine features into a single DataFrame\n",
        "features = pd.concat([encoded_gender_df, pd.DataFrame(scaled_features), encoded_bmicase_df, encoded_bfp_df], axis=1)\n",
        "labels = dataset['Exercise Recommendation Plan']\n"
      ],
      "metadata": {
        "id": "sFM8B3zAChpc"
      },
      "execution_count": null,
      "outputs": []
    },
    {
      "cell_type": "markdown",
      "source": [
        "**Splitting Dataset into Training and Testing**"
      ],
      "metadata": {
        "id": "OjxgJYx4Clfr"
      }
    },
    {
      "cell_type": "code",
      "source": [
        "\n",
        "# Split dataset into training and testing sets\n",
        "X_train, X_test, y_train, y_test = train_test_split(features, labels, test_size=0.2, random_state=42)\n",
        "\n",
        "# Convert feature names to strings\n",
        "X_train.columns = X_train.columns.astype(str)\n",
        "X_test.columns = X_test.columns.astype(str)"
      ],
      "metadata": {
        "id": "Qa7vdNM0CrWR"
      },
      "execution_count": null,
      "outputs": []
    },
    {
      "cell_type": "markdown",
      "source": [
        "**SLECTING BEST PARAMETER FOR TUNING**"
      ],
      "metadata": {
        "id": "yqu3E16nCt1x"
      }
    },
    {
      "cell_type": "code",
      "source": [
        "\n",
        "\n",
        "# Hyperparameter tuning for KNN using GridSearchCV\n",
        "param_grid = {'n_neighbors': [3, 5, 7, 9, 11]}\n",
        "grid_search = GridSearchCV(KNeighborsClassifier(), param_grid, cv=5, scoring='accuracy')\n",
        "grid_search.fit(X_train, y_train)\n",
        "\n",
        "print(\"Best parameters found for KNN:\")\n",
        "print(grid_search.best_params_)\n"
      ],
      "metadata": {
        "colab": {
          "base_uri": "https://localhost:8080/"
        },
        "id": "pp8qTz1jDABH",
        "outputId": "4d193a96-1953-407b-c669-e3fc656f1cb7"
      },
      "execution_count": null,
      "outputs": [
        {
          "output_type": "stream",
          "name": "stdout",
          "text": [
            "Best parameters found for KNN:\n",
            "{'n_neighbors': 3}\n"
          ]
        }
      ]
    },
    {
      "cell_type": "markdown",
      "source": [
        "**ALGORITHM KNN CLASSIFIER**"
      ],
      "metadata": {
        "id": "8QTZ7zIIDCZJ"
      }
    },
    {
      "cell_type": "code",
      "source": [
        "# Train the best KNN model\n",
        "best_knn = grid_search.best_estimator_\n",
        "best_knn.fit(X_train, y_train)\n",
        "\n",
        "# Predict on the test set using the best KNN model\n",
        "y_pred_knn = best_knn.predict(X_test)\n",
        "\n",
        "# Evaluate the best KNN model\n",
        "accuracy_knn = accuracy_score(y_test, y_pred_knn)\n",
        "print(f'KNN Model Accuracy: {accuracy_knn}')\n",
        "print(classification_report(y_test, y_pred_knn))"
      ],
      "metadata": {
        "colab": {
          "base_uri": "https://localhost:8080/"
        },
        "id": "Wp952tVzDGUp",
        "outputId": "f7595f04-ac91-46bc-c12e-84744a213f37"
      },
      "execution_count": null,
      "outputs": [
        {
          "output_type": "stream",
          "name": "stdout",
          "text": [
            "KNN Model Accuracy: 1.0\n",
            "              precision    recall  f1-score   support\n",
            "\n",
            "           1       1.00      1.00      1.00        55\n",
            "           2       1.00      1.00      1.00        31\n",
            "           3       1.00      1.00      1.00        48\n",
            "           4       1.00      1.00      1.00       309\n",
            "           5       1.00      1.00      1.00       237\n",
            "           6       1.00      1.00      1.00       161\n",
            "           7       1.00      1.00      1.00       159\n",
            "\n",
            "    accuracy                           1.00      1000\n",
            "   macro avg       1.00      1.00      1.00      1000\n",
            "weighted avg       1.00      1.00      1.00      1000\n",
            "\n"
          ]
        }
      ]
    },
    {
      "cell_type": "code",
      "source": [
        "# Save the encoder and scaler\n",
        "joblib.dump(encoder, 'encoder.pkl')\n",
        "joblib.dump(scaler, 'scaler.pkl')\n"
      ],
      "metadata": {
        "colab": {
          "base_uri": "https://localhost:8080/"
        },
        "id": "hmk8n3ATLYsf",
        "outputId": "2e61f153-93bf-4fef-c939-22488b9b6649"
      },
      "execution_count": null,
      "outputs": [
        {
          "output_type": "execute_result",
          "data": {
            "text/plain": [
              "['scaler.pkl']"
            ]
          },
          "metadata": {},
          "execution_count": 74
        }
      ]
    },
    {
      "cell_type": "markdown",
      "source": [
        "**TRAINING FOR RANDOM FOREST MODEL**"
      ],
      "metadata": {
        "id": "TLFLgqLoDJXN"
      }
    },
    {
      "cell_type": "code",
      "source": [
        "# Train a Random Forest model for comparison\n",
        "rf = RandomForestClassifier(random_state=42)\n",
        "rf.fit(X_train, y_train)\n",
        "\n",
        "# Predict on the test set using the Random Forest model\n",
        "y_pred_rf = rf.predict(X_test)\n",
        "\n",
        "# Evaluate the Random Forest model\n",
        "accuracy_rf = accuracy_score(y_test, y_pred_rf)\n",
        "print(f'Random Forest Model Accuracy: {accuracy_rf}')\n",
        "print(classification_report(y_test, y_pred_rf))\n"
      ],
      "metadata": {
        "colab": {
          "base_uri": "https://localhost:8080/"
        },
        "id": "D8WJ9vpgDNTj",
        "outputId": "f16bf8fb-12c8-4677-ed63-bc4fd91f08be"
      },
      "execution_count": null,
      "outputs": [
        {
          "output_type": "stream",
          "name": "stdout",
          "text": [
            "Random Forest Model Accuracy: 1.0\n",
            "              precision    recall  f1-score   support\n",
            "\n",
            "           1       1.00      1.00      1.00        55\n",
            "           2       1.00      1.00      1.00        31\n",
            "           3       1.00      1.00      1.00        48\n",
            "           4       1.00      1.00      1.00       309\n",
            "           5       1.00      1.00      1.00       237\n",
            "           6       1.00      1.00      1.00       161\n",
            "           7       1.00      1.00      1.00       159\n",
            "\n",
            "    accuracy                           1.00      1000\n",
            "   macro avg       1.00      1.00      1.00      1000\n",
            "weighted avg       1.00      1.00      1.00      1000\n",
            "\n"
          ]
        }
      ]
    },
    {
      "cell_type": "markdown",
      "source": [
        "**SAVING BOTH MODELS**"
      ],
      "metadata": {
        "id": "aTI2ocscDoc9"
      }
    },
    {
      "cell_type": "code",
      "source": [
        "\n",
        "# Save the best KNN model\n",
        "joblib.dump(best_knn, 'best_knn_model.pkl')\n",
        "\n",
        "# Save the Random Forest model\n",
        "joblib.dump(rf, 'random_forest_model.pkl')\n"
      ],
      "metadata": {
        "colab": {
          "base_uri": "https://localhost:8080/"
        },
        "id": "L_INPPzdDtBW",
        "outputId": "44ead55e-e186-4ab0-ae20-224667ff717e"
      },
      "execution_count": null,
      "outputs": [
        {
          "output_type": "execute_result",
          "data": {
            "text/plain": [
              "['random_forest_model.pkl']"
            ]
          },
          "metadata": {},
          "execution_count": 76
        }
      ]
    },
    {
      "cell_type": "markdown",
      "source": [
        "**PREPROCESSING AND TESTING THE MODEL WITH SAMPLE INPUT FOR CHECKING ACCURACY**"
      ],
      "metadata": {
        "id": "Kbewd_aVDv63"
      }
    },
    {
      "cell_type": "code",
      "source": [
        "import pandas as pd\n",
        "from sklearn.preprocessing import OneHotEncoder, StandardScaler\n",
        "import joblib\n",
        "\n",
        "# Updated data dictionary with 'BFP' and 'BFPcase' included\n",
        "data = {\n",
        "    'Gender': ['Female', 'Male', 'Female'],\n",
        "    'Weight': [70.0, 80.0, 65.0],\n",
        "    'BMI': [25.0, 30.0, 22.0],\n",
        "    'Height': [1.65, 1.75, 1.60],\n",
        "    'Age': [30, 35, 25],\n",
        "    'BMIcase': [1, 2, 1],\n",
        "    'BFP': [28.0, 25.0, 30.0],  # Adding 'BFP' (Body Fat Percentage) to the data\n",
        "    'BFPcase': [1, 2, 1],       # Adding 'BFPcase' to the data\n",
        "}\n",
        "\n",
        "df = pd.DataFrame(data)\n",
        "\n",
        "# Updated sample input with 'BFP' and 'BFPcase' included\n",
        "sample_input = {\n",
        "    'Gender': 'Female',\n",
        "    'Weight': 70.0,   # Additional feature - Weight\n",
        "    'BMI': 25.0,      # Additional feature - BMI\n",
        "    'Height': 1.65,   # Additional feature - Height\n",
        "    'Age': 30,        # Additional feature - Age\n",
        "    'BMIcase': 1,\n",
        "    'BFP': 28.0,      # Additional feature - BFP (Body Fat Percentage)\n",
        "    'BFPcase': 1,     # Included the 'BFPcase' feature with value 1\n",
        "}\n",
        "\n",
        "# Create a DataFrame from the sample input\n",
        "sample_df = pd.DataFrame([sample_input])\n",
        "\n",
        "# Ensure 'BFP' and 'BFPcase' are included in the dataframe before continuing with the data processing pipeline\n",
        "# Encode categorical variables (Gender)\n",
        "encoder = OneHotEncoder(sparse=False)\n",
        "encoder.fit(df[['Gender']])\n",
        "encoded_gender_sample = encoder.transform(sample_df[['Gender']])\n",
        "\n",
        "# One-hot encode BMIcase, BFPcase columns\n",
        "encoded_bmicase = pd.get_dummies(df['BMIcase'])\n",
        "encoded_bmicase_columns = encoded_bmicase.columns\n",
        "encoded_bmicase_sample = pd.get_dummies(sample_df['BMIcase']).reindex(columns=encoded_bmicase_columns, fill_value=0)\n",
        "\n",
        "encoded_bfpcase = pd.get_dummies(df['BFPcase'])\n",
        "encoded_bfpcase_columns = encoded_bfpcase.columns\n",
        "encoded_bfpcase_sample = pd.get_dummies(sample_df['BFPcase']).reindex(columns=encoded_bfpcase_columns, fill_value=0)\n",
        "\n",
        "# Continue with the rest of your code\n",
        "\n",
        "sample_df\n",
        "\n",
        "\"\"\"**SCALING THE NUMERICAL COLUMNS  AND PRINTING ALL FEATURES OF SAMPLE INPUT**\"\"\"\n",
        "\n",
        "from sklearn.preprocessing import StandardScaler\n",
        "\n",
        "# Define numerical columns based on your dataset (Weight, BMI, Height, Age, BFP)\n",
        "numerical_columns = ['Weight', 'BMI', 'Height', 'Age', 'BFP']\n",
        "\n",
        "# Encode categorical variables (gender and BMI case) before using them\n",
        "# Assuming you are using one-hot encoding or label encoding for encoding\n",
        "encoded_gender_columns = ['Male', 'Female']\n",
        "encoded_bmicase_columns = ['Normal', 'Overweight', 'Obese']\n"
      ],
      "metadata": {
        "colab": {
          "base_uri": "https://localhost:8080/"
        },
        "id": "j_qZ1U0VECfJ",
        "outputId": "11655c84-b77a-471f-ac58-41cf3c35c1c0"
      },
      "execution_count": null,
      "outputs": [
        {
          "output_type": "stream",
          "name": "stderr",
          "text": [
            "/usr/local/lib/python3.10/dist-packages/sklearn/preprocessing/_encoders.py:868: FutureWarning: `sparse` was renamed to `sparse_output` in version 1.2 and will be removed in 1.4. `sparse_output` is ignored unless you leave `sparse` to its default value.\n",
            "  warnings.warn(\n"
          ]
        }
      ]
    },
    {
      "cell_type": "code",
      "source": [
        "sample_df"
      ],
      "metadata": {
        "colab": {
          "base_uri": "https://localhost:8080/",
          "height": 89
        },
        "id": "yZtNZjsrESoE",
        "outputId": "3ff7b9ad-214f-4176-a5f8-30d458ff515a"
      },
      "execution_count": null,
      "outputs": [
        {
          "output_type": "execute_result",
          "data": {
            "text/plain": [
              "   Gender  Weight   BMI  Height  Age  BMIcase   BFP  BFPcase\n",
              "0  Female    70.0  25.0    1.65   30        1  28.0        1"
            ],
            "text/html": [
              "\n",
              "  <div id=\"df-5a155bb5-7468-45a3-bb40-6c476105a7a8\" class=\"colab-df-container\">\n",
              "    <div>\n",
              "<style scoped>\n",
              "    .dataframe tbody tr th:only-of-type {\n",
              "        vertical-align: middle;\n",
              "    }\n",
              "\n",
              "    .dataframe tbody tr th {\n",
              "        vertical-align: top;\n",
              "    }\n",
              "\n",
              "    .dataframe thead th {\n",
              "        text-align: right;\n",
              "    }\n",
              "</style>\n",
              "<table border=\"1\" class=\"dataframe\">\n",
              "  <thead>\n",
              "    <tr style=\"text-align: right;\">\n",
              "      <th></th>\n",
              "      <th>Gender</th>\n",
              "      <th>Weight</th>\n",
              "      <th>BMI</th>\n",
              "      <th>Height</th>\n",
              "      <th>Age</th>\n",
              "      <th>BMIcase</th>\n",
              "      <th>BFP</th>\n",
              "      <th>BFPcase</th>\n",
              "    </tr>\n",
              "  </thead>\n",
              "  <tbody>\n",
              "    <tr>\n",
              "      <th>0</th>\n",
              "      <td>Female</td>\n",
              "      <td>70.0</td>\n",
              "      <td>25.0</td>\n",
              "      <td>1.65</td>\n",
              "      <td>30</td>\n",
              "      <td>1</td>\n",
              "      <td>28.0</td>\n",
              "      <td>1</td>\n",
              "    </tr>\n",
              "  </tbody>\n",
              "</table>\n",
              "</div>\n",
              "    <div class=\"colab-df-buttons\">\n",
              "\n",
              "  <div class=\"colab-df-container\">\n",
              "    <button class=\"colab-df-convert\" onclick=\"convertToInteractive('df-5a155bb5-7468-45a3-bb40-6c476105a7a8')\"\n",
              "            title=\"Convert this dataframe to an interactive table.\"\n",
              "            style=\"display:none;\">\n",
              "\n",
              "  <svg xmlns=\"http://www.w3.org/2000/svg\" height=\"24px\" viewBox=\"0 -960 960 960\">\n",
              "    <path d=\"M120-120v-720h720v720H120Zm60-500h600v-160H180v160Zm220 220h160v-160H400v160Zm0 220h160v-160H400v160ZM180-400h160v-160H180v160Zm440 0h160v-160H620v160ZM180-180h160v-160H180v160Zm440 0h160v-160H620v160Z\"/>\n",
              "  </svg>\n",
              "    </button>\n",
              "\n",
              "  <style>\n",
              "    .colab-df-container {\n",
              "      display:flex;\n",
              "      gap: 12px;\n",
              "    }\n",
              "\n",
              "    .colab-df-convert {\n",
              "      background-color: #E8F0FE;\n",
              "      border: none;\n",
              "      border-radius: 50%;\n",
              "      cursor: pointer;\n",
              "      display: none;\n",
              "      fill: #1967D2;\n",
              "      height: 32px;\n",
              "      padding: 0 0 0 0;\n",
              "      width: 32px;\n",
              "    }\n",
              "\n",
              "    .colab-df-convert:hover {\n",
              "      background-color: #E2EBFA;\n",
              "      box-shadow: 0px 1px 2px rgba(60, 64, 67, 0.3), 0px 1px 3px 1px rgba(60, 64, 67, 0.15);\n",
              "      fill: #174EA6;\n",
              "    }\n",
              "\n",
              "    .colab-df-buttons div {\n",
              "      margin-bottom: 4px;\n",
              "    }\n",
              "\n",
              "    [theme=dark] .colab-df-convert {\n",
              "      background-color: #3B4455;\n",
              "      fill: #D2E3FC;\n",
              "    }\n",
              "\n",
              "    [theme=dark] .colab-df-convert:hover {\n",
              "      background-color: #434B5C;\n",
              "      box-shadow: 0px 1px 3px 1px rgba(0, 0, 0, 0.15);\n",
              "      filter: drop-shadow(0px 1px 2px rgba(0, 0, 0, 0.3));\n",
              "      fill: #FFFFFF;\n",
              "    }\n",
              "  </style>\n",
              "\n",
              "    <script>\n",
              "      const buttonEl =\n",
              "        document.querySelector('#df-5a155bb5-7468-45a3-bb40-6c476105a7a8 button.colab-df-convert');\n",
              "      buttonEl.style.display =\n",
              "        google.colab.kernel.accessAllowed ? 'block' : 'none';\n",
              "\n",
              "      async function convertToInteractive(key) {\n",
              "        const element = document.querySelector('#df-5a155bb5-7468-45a3-bb40-6c476105a7a8');\n",
              "        const dataTable =\n",
              "          await google.colab.kernel.invokeFunction('convertToInteractive',\n",
              "                                                    [key], {});\n",
              "        if (!dataTable) return;\n",
              "\n",
              "        const docLinkHtml = 'Like what you see? Visit the ' +\n",
              "          '<a target=\"_blank\" href=https://colab.research.google.com/notebooks/data_table.ipynb>data table notebook</a>'\n",
              "          + ' to learn more about interactive tables.';\n",
              "        element.innerHTML = '';\n",
              "        dataTable['output_type'] = 'display_data';\n",
              "        await google.colab.output.renderOutput(dataTable, element);\n",
              "        const docLink = document.createElement('div');\n",
              "        docLink.innerHTML = docLinkHtml;\n",
              "        element.appendChild(docLink);\n",
              "      }\n",
              "    </script>\n",
              "  </div>\n",
              "\n",
              "\n",
              "  <div id=\"id_69a9f01b-c9ae-4d3a-934a-21b2bf871085\">\n",
              "    <style>\n",
              "      .colab-df-generate {\n",
              "        background-color: #E8F0FE;\n",
              "        border: none;\n",
              "        border-radius: 50%;\n",
              "        cursor: pointer;\n",
              "        display: none;\n",
              "        fill: #1967D2;\n",
              "        height: 32px;\n",
              "        padding: 0 0 0 0;\n",
              "        width: 32px;\n",
              "      }\n",
              "\n",
              "      .colab-df-generate:hover {\n",
              "        background-color: #E2EBFA;\n",
              "        box-shadow: 0px 1px 2px rgba(60, 64, 67, 0.3), 0px 1px 3px 1px rgba(60, 64, 67, 0.15);\n",
              "        fill: #174EA6;\n",
              "      }\n",
              "\n",
              "      [theme=dark] .colab-df-generate {\n",
              "        background-color: #3B4455;\n",
              "        fill: #D2E3FC;\n",
              "      }\n",
              "\n",
              "      [theme=dark] .colab-df-generate:hover {\n",
              "        background-color: #434B5C;\n",
              "        box-shadow: 0px 1px 3px 1px rgba(0, 0, 0, 0.15);\n",
              "        filter: drop-shadow(0px 1px 2px rgba(0, 0, 0, 0.3));\n",
              "        fill: #FFFFFF;\n",
              "      }\n",
              "    </style>\n",
              "    <button class=\"colab-df-generate\" onclick=\"generateWithVariable('sample_df')\"\n",
              "            title=\"Generate code using this dataframe.\"\n",
              "            style=\"display:none;\">\n",
              "\n",
              "  <svg xmlns=\"http://www.w3.org/2000/svg\" height=\"24px\"viewBox=\"0 0 24 24\"\n",
              "       width=\"24px\">\n",
              "    <path d=\"M7,19H8.4L18.45,9,17,7.55,7,17.6ZM5,21V16.75L18.45,3.32a2,2,0,0,1,2.83,0l1.4,1.43a1.91,1.91,0,0,1,.58,1.4,1.91,1.91,0,0,1-.58,1.4L9.25,21ZM18.45,9,17,7.55Zm-12,3A5.31,5.31,0,0,0,4.9,8.1,5.31,5.31,0,0,0,1,6.5,5.31,5.31,0,0,0,4.9,4.9,5.31,5.31,0,0,0,6.5,1,5.31,5.31,0,0,0,8.1,4.9,5.31,5.31,0,0,0,12,6.5,5.46,5.46,0,0,0,6.5,12Z\"/>\n",
              "  </svg>\n",
              "    </button>\n",
              "    <script>\n",
              "      (() => {\n",
              "      const buttonEl =\n",
              "        document.querySelector('#id_69a9f01b-c9ae-4d3a-934a-21b2bf871085 button.colab-df-generate');\n",
              "      buttonEl.style.display =\n",
              "        google.colab.kernel.accessAllowed ? 'block' : 'none';\n",
              "\n",
              "      buttonEl.onclick = () => {\n",
              "        google.colab.notebook.generateWithVariable('sample_df');\n",
              "      }\n",
              "      })();\n",
              "    </script>\n",
              "  </div>\n",
              "\n",
              "    </div>\n",
              "  </div>\n"
            ],
            "application/vnd.google.colaboratory.intrinsic+json": {
              "type": "dataframe",
              "variable_name": "sample_df",
              "summary": "{\n  \"name\": \"sample_df\",\n  \"rows\": 1,\n  \"fields\": [\n    {\n      \"column\": \"Gender\",\n      \"properties\": {\n        \"dtype\": \"string\",\n        \"num_unique_values\": 1,\n        \"samples\": [\n          \"Female\"\n        ],\n        \"semantic_type\": \"\",\n        \"description\": \"\"\n      }\n    },\n    {\n      \"column\": \"Weight\",\n      \"properties\": {\n        \"dtype\": \"number\",\n        \"std\": null,\n        \"min\": 70.0,\n        \"max\": 70.0,\n        \"num_unique_values\": 1,\n        \"samples\": [\n          70.0\n        ],\n        \"semantic_type\": \"\",\n        \"description\": \"\"\n      }\n    },\n    {\n      \"column\": \"BMI\",\n      \"properties\": {\n        \"dtype\": \"number\",\n        \"std\": null,\n        \"min\": 25.0,\n        \"max\": 25.0,\n        \"num_unique_values\": 1,\n        \"samples\": [\n          25.0\n        ],\n        \"semantic_type\": \"\",\n        \"description\": \"\"\n      }\n    },\n    {\n      \"column\": \"Height\",\n      \"properties\": {\n        \"dtype\": \"number\",\n        \"std\": null,\n        \"min\": 1.65,\n        \"max\": 1.65,\n        \"num_unique_values\": 1,\n        \"samples\": [\n          1.65\n        ],\n        \"semantic_type\": \"\",\n        \"description\": \"\"\n      }\n    },\n    {\n      \"column\": \"Age\",\n      \"properties\": {\n        \"dtype\": \"number\",\n        \"std\": null,\n        \"min\": 30,\n        \"max\": 30,\n        \"num_unique_values\": 1,\n        \"samples\": [\n          30\n        ],\n        \"semantic_type\": \"\",\n        \"description\": \"\"\n      }\n    },\n    {\n      \"column\": \"BMIcase\",\n      \"properties\": {\n        \"dtype\": \"number\",\n        \"std\": null,\n        \"min\": 1,\n        \"max\": 1,\n        \"num_unique_values\": 1,\n        \"samples\": [\n          1\n        ],\n        \"semantic_type\": \"\",\n        \"description\": \"\"\n      }\n    },\n    {\n      \"column\": \"BFP\",\n      \"properties\": {\n        \"dtype\": \"number\",\n        \"std\": null,\n        \"min\": 28.0,\n        \"max\": 28.0,\n        \"num_unique_values\": 1,\n        \"samples\": [\n          28.0\n        ],\n        \"semantic_type\": \"\",\n        \"description\": \"\"\n      }\n    },\n    {\n      \"column\": \"BFPcase\",\n      \"properties\": {\n        \"dtype\": \"number\",\n        \"std\": null,\n        \"min\": 1,\n        \"max\": 1,\n        \"num_unique_values\": 1,\n        \"samples\": [\n          1\n        ],\n        \"semantic_type\": \"\",\n        \"description\": \"\"\n      }\n    }\n  ]\n}"
            }
          },
          "metadata": {},
          "execution_count": 81
        }
      ]
    },
    {
      "cell_type": "markdown",
      "source": [
        "**SCALING THE NUMERICAL COLUMNS AND PRINTING ALL FEATURES OF SAMPLE INPUT**"
      ],
      "metadata": {
        "id": "U9SRc5ocEWjg"
      }
    },
    {
      "cell_type": "code",
      "source": [
        "# Normalize numerical features (Weight, BMI, Height, Age, BFP)\n",
        "scaler = StandardScaler()\n",
        "scaled_features = scaler.fit_transform(df[numerical_columns])\n",
        "scaled_features_sample = scaler.transform(sample_df[numerical_columns])\n",
        "\n",
        "# Combine features into a single DataFrame\n",
        "features_sample = pd.concat([pd.DataFrame(encoded_gender_sample), pd.DataFrame(scaled_features_sample), encoded_bmicase_sample], axis=1)\n",
        "\n",
        "# Ensure columns match the training set\n",
        "features_sample_columns = encoded_gender_columns + numerical_columns + encoded_bmicase_columns\n",
        "#features_sample.columns = features_sample_columns\n",
        "\n",
        "# Print the features for the sample input\n",
        "print(features_sample)"
      ],
      "metadata": {
        "colab": {
          "base_uri": "https://localhost:8080/"
        },
        "id": "QORoh_cXEcjo",
        "outputId": "bbe183d8-b965-4fb7-dd82-770785e5801b"
      },
      "execution_count": null,
      "outputs": [
        {
          "output_type": "stream",
          "name": "stdout",
          "text": [
            "     0    1         0         1         2    3         4     1  2\n",
            "0  1.0  0.0 -0.267261 -0.202031 -0.267261  0.0  0.162221  True  0\n"
          ]
        }
      ]
    },
    {
      "cell_type": "markdown",
      "source": [
        "**LOADING THE BEST KNN MODEL**"
      ],
      "metadata": {
        "id": "ZNOFCEesEpxZ"
      }
    },
    {
      "cell_type": "code",
      "source": [
        "# Load the best KNN model\n",
        "best_knn = joblib.load('best_knn_model.pkl')"
      ],
      "metadata": {
        "id": "4xIK2K1kE4Ml"
      },
      "execution_count": null,
      "outputs": []
    },
    {
      "cell_type": "markdown",
      "source": [
        "**MAKING PREDICTION OF EXCERCISE PLAN FROM THE SAMPLE INPUTS**"
      ],
      "metadata": {
        "id": "ZGxqDpPfE7p7"
      }
    },
    {
      "cell_type": "code",
      "source": [
        "# Making prediction\n",
        "prediction = best_knn.predict(features_sample)\n",
        "print(f'Predicted Exercise Recommendation Plan: {prediction[0]}')\n"
      ],
      "metadata": {
        "colab": {
          "base_uri": "https://localhost:8080/",
          "height": 376
        },
        "id": "vEXA9Q0BFkXW",
        "outputId": "da63cf40-20ea-44d4-ddaf-3009230b6b64"
      },
      "execution_count": null,
      "outputs": [
        {
          "output_type": "stream",
          "name": "stderr",
          "text": [
            "/usr/local/lib/python3.10/dist-packages/sklearn/base.py:439: UserWarning: X does not have valid feature names, but KNeighborsClassifier was fitted with feature names\n",
            "  warnings.warn(\n"
          ]
        },
        {
          "output_type": "error",
          "ename": "ValueError",
          "evalue": "X has 9 features, but KNeighborsClassifier is expecting 18 features as input.",
          "traceback": [
            "\u001b[0;31m---------------------------------------------------------------------------\u001b[0m",
            "\u001b[0;31mValueError\u001b[0m                                Traceback (most recent call last)",
            "\u001b[0;32m<ipython-input-84-3a136ccc9c25>\u001b[0m in \u001b[0;36m<cell line: 2>\u001b[0;34m()\u001b[0m\n\u001b[1;32m      1\u001b[0m \u001b[0;31m# Making prediction\u001b[0m\u001b[0;34m\u001b[0m\u001b[0;34m\u001b[0m\u001b[0m\n\u001b[0;32m----> 2\u001b[0;31m \u001b[0mprediction\u001b[0m \u001b[0;34m=\u001b[0m \u001b[0mbest_knn\u001b[0m\u001b[0;34m.\u001b[0m\u001b[0mpredict\u001b[0m\u001b[0;34m(\u001b[0m\u001b[0mfeatures_sample\u001b[0m\u001b[0;34m)\u001b[0m\u001b[0;34m\u001b[0m\u001b[0;34m\u001b[0m\u001b[0m\n\u001b[0m\u001b[1;32m      3\u001b[0m \u001b[0mprint\u001b[0m\u001b[0;34m(\u001b[0m\u001b[0;34mf'Predicted Exercise Recommendation Plan: {prediction[0]}'\u001b[0m\u001b[0;34m)\u001b[0m\u001b[0;34m\u001b[0m\u001b[0;34m\u001b[0m\u001b[0m\n",
            "\u001b[0;32m/usr/local/lib/python3.10/dist-packages/sklearn/neighbors/_classification.py\u001b[0m in \u001b[0;36mpredict\u001b[0;34m(self, X)\u001b[0m\n\u001b[1;32m    232\u001b[0m             \u001b[0;31m# In that case, we do not need the distances to perform\u001b[0m\u001b[0;34m\u001b[0m\u001b[0;34m\u001b[0m\u001b[0m\n\u001b[1;32m    233\u001b[0m             \u001b[0;31m# the weighting so we do not compute them.\u001b[0m\u001b[0;34m\u001b[0m\u001b[0;34m\u001b[0m\u001b[0m\n\u001b[0;32m--> 234\u001b[0;31m             \u001b[0mneigh_ind\u001b[0m \u001b[0;34m=\u001b[0m \u001b[0mself\u001b[0m\u001b[0;34m.\u001b[0m\u001b[0mkneighbors\u001b[0m\u001b[0;34m(\u001b[0m\u001b[0mX\u001b[0m\u001b[0;34m,\u001b[0m \u001b[0mreturn_distance\u001b[0m\u001b[0;34m=\u001b[0m\u001b[0;32mFalse\u001b[0m\u001b[0;34m)\u001b[0m\u001b[0;34m\u001b[0m\u001b[0;34m\u001b[0m\u001b[0m\n\u001b[0m\u001b[1;32m    235\u001b[0m             \u001b[0mneigh_dist\u001b[0m \u001b[0;34m=\u001b[0m \u001b[0;32mNone\u001b[0m\u001b[0;34m\u001b[0m\u001b[0;34m\u001b[0m\u001b[0m\n\u001b[1;32m    236\u001b[0m         \u001b[0;32melse\u001b[0m\u001b[0;34m:\u001b[0m\u001b[0;34m\u001b[0m\u001b[0;34m\u001b[0m\u001b[0m\n",
            "\u001b[0;32m/usr/local/lib/python3.10/dist-packages/sklearn/neighbors/_base.py\u001b[0m in \u001b[0;36mkneighbors\u001b[0;34m(self, X, n_neighbors, return_distance)\u001b[0m\n\u001b[1;32m    804\u001b[0m                 \u001b[0mX\u001b[0m \u001b[0;34m=\u001b[0m \u001b[0m_check_precomputed\u001b[0m\u001b[0;34m(\u001b[0m\u001b[0mX\u001b[0m\u001b[0;34m)\u001b[0m\u001b[0;34m\u001b[0m\u001b[0;34m\u001b[0m\u001b[0m\n\u001b[1;32m    805\u001b[0m             \u001b[0;32melse\u001b[0m\u001b[0;34m:\u001b[0m\u001b[0;34m\u001b[0m\u001b[0;34m\u001b[0m\u001b[0m\n\u001b[0;32m--> 806\u001b[0;31m                 \u001b[0mX\u001b[0m \u001b[0;34m=\u001b[0m \u001b[0mself\u001b[0m\u001b[0;34m.\u001b[0m\u001b[0m_validate_data\u001b[0m\u001b[0;34m(\u001b[0m\u001b[0mX\u001b[0m\u001b[0;34m,\u001b[0m \u001b[0maccept_sparse\u001b[0m\u001b[0;34m=\u001b[0m\u001b[0;34m\"csr\"\u001b[0m\u001b[0;34m,\u001b[0m \u001b[0mreset\u001b[0m\u001b[0;34m=\u001b[0m\u001b[0;32mFalse\u001b[0m\u001b[0;34m,\u001b[0m \u001b[0morder\u001b[0m\u001b[0;34m=\u001b[0m\u001b[0;34m\"C\"\u001b[0m\u001b[0;34m)\u001b[0m\u001b[0;34m\u001b[0m\u001b[0;34m\u001b[0m\u001b[0m\n\u001b[0m\u001b[1;32m    807\u001b[0m \u001b[0;34m\u001b[0m\u001b[0m\n\u001b[1;32m    808\u001b[0m         \u001b[0mn_samples_fit\u001b[0m \u001b[0;34m=\u001b[0m \u001b[0mself\u001b[0m\u001b[0;34m.\u001b[0m\u001b[0mn_samples_fit_\u001b[0m\u001b[0;34m\u001b[0m\u001b[0;34m\u001b[0m\u001b[0m\n",
            "\u001b[0;32m/usr/local/lib/python3.10/dist-packages/sklearn/base.py\u001b[0m in \u001b[0;36m_validate_data\u001b[0;34m(self, X, y, reset, validate_separately, **check_params)\u001b[0m\n\u001b[1;32m    586\u001b[0m \u001b[0;34m\u001b[0m\u001b[0m\n\u001b[1;32m    587\u001b[0m         \u001b[0;32mif\u001b[0m \u001b[0;32mnot\u001b[0m \u001b[0mno_val_X\u001b[0m \u001b[0;32mand\u001b[0m \u001b[0mcheck_params\u001b[0m\u001b[0;34m.\u001b[0m\u001b[0mget\u001b[0m\u001b[0;34m(\u001b[0m\u001b[0;34m\"ensure_2d\"\u001b[0m\u001b[0;34m,\u001b[0m \u001b[0;32mTrue\u001b[0m\u001b[0;34m)\u001b[0m\u001b[0;34m:\u001b[0m\u001b[0;34m\u001b[0m\u001b[0;34m\u001b[0m\u001b[0m\n\u001b[0;32m--> 588\u001b[0;31m             \u001b[0mself\u001b[0m\u001b[0;34m.\u001b[0m\u001b[0m_check_n_features\u001b[0m\u001b[0;34m(\u001b[0m\u001b[0mX\u001b[0m\u001b[0;34m,\u001b[0m \u001b[0mreset\u001b[0m\u001b[0;34m=\u001b[0m\u001b[0mreset\u001b[0m\u001b[0;34m)\u001b[0m\u001b[0;34m\u001b[0m\u001b[0;34m\u001b[0m\u001b[0m\n\u001b[0m\u001b[1;32m    589\u001b[0m \u001b[0;34m\u001b[0m\u001b[0m\n\u001b[1;32m    590\u001b[0m         \u001b[0;32mreturn\u001b[0m \u001b[0mout\u001b[0m\u001b[0;34m\u001b[0m\u001b[0;34m\u001b[0m\u001b[0m\n",
            "\u001b[0;32m/usr/local/lib/python3.10/dist-packages/sklearn/base.py\u001b[0m in \u001b[0;36m_check_n_features\u001b[0;34m(self, X, reset)\u001b[0m\n\u001b[1;32m    387\u001b[0m \u001b[0;34m\u001b[0m\u001b[0m\n\u001b[1;32m    388\u001b[0m         \u001b[0;32mif\u001b[0m \u001b[0mn_features\u001b[0m \u001b[0;34m!=\u001b[0m \u001b[0mself\u001b[0m\u001b[0;34m.\u001b[0m\u001b[0mn_features_in_\u001b[0m\u001b[0;34m:\u001b[0m\u001b[0;34m\u001b[0m\u001b[0;34m\u001b[0m\u001b[0m\n\u001b[0;32m--> 389\u001b[0;31m             raise ValueError(\n\u001b[0m\u001b[1;32m    390\u001b[0m                 \u001b[0;34mf\"X has {n_features} features, but {self.__class__.__name__} \"\u001b[0m\u001b[0;34m\u001b[0m\u001b[0;34m\u001b[0m\u001b[0m\n\u001b[1;32m    391\u001b[0m                 \u001b[0;34mf\"is expecting {self.n_features_in_} features as input.\"\u001b[0m\u001b[0;34m\u001b[0m\u001b[0;34m\u001b[0m\u001b[0m\n",
            "\u001b[0;31mValueError\u001b[0m: X has 9 features, but KNeighborsClassifier is expecting 18 features as input."
          ]
        }
      ]
    },
    {
      "cell_type": "markdown",
      "source": [
        "**Linear Regression**"
      ],
      "metadata": {
        "id": "gaihrD54EOwA"
      }
    },
    {
      "cell_type": "code",
      "source": [
        "from sklearn.neighbors import KNeighborsRegressor\n",
        "from sklearn.model_selection import train_test_split\n",
        "import pandas as pd\n",
        "dataset = pd.read_csv('/content/final_dataset_BFP .csv')\n",
        "dataset['BFPcase'] = dataset['BFPcase'].map({'Obese':1, 'Acceptable':2, 'Fitness':3, 'Athletes':4})\n",
        "dataset['Gender'] = dataset['Gender'].map({'Male':0, 'Female':1})\n",
        "dataset['BMIcase'] = dataset['BMIcase'].map({'sever thinness':1, 'moderate thinness':2, 'mild thinness':3, 'normal':4, 'over weight':5, 'obese':6, 'severe obese':7})\n",
        "explanatory_vars = dataset.drop(\"Exercise Recommendation Plan\",axis=1)\n",
        "target = dataset[\"Exercise Recommendation Plan\"]\n",
        "X_train,X_test,Y_train,Y_test =train_test_split(explanatory_vars, target, random_state=0)\n",
        "#K-Nearest Neighbors Regression\n",
        "reg = KNeighborsRegressor(n_neighbors=3)\n",
        "reg.fit(X_train, Y_train)\n",
        "print(\"Test set R^2: {:.2f}\".format(reg.score(X_test, Y_test)))\n",
        "print(\"Train set R^2: {:.2f}\".format(reg.score(X_train, Y_train)))\n",
        "#Linear Regression\n",
        "from sklearn.linear_model import LinearRegression\n",
        "X_train,X_test,Y_train,Y_test =train_test_split(explanatory_vars, target, random_state=42)\n",
        "lr = LinearRegression().fit(X_train, Y_train)\n",
        "print(\"lr.coef_: {}\".format(lr.coef_))\n",
        "print(\"lr.intercept_: {}\".format(lr.intercept_))\n",
        "print(\"Train set R^2: {:.2f}\".format(lr.score(X_train, Y_train)))\n",
        "print(\"Test set R^2: {:.2f}\".format(lr.score(X_test, Y_test)))\n",
        "#Linear Regression without python package\n",
        "import numpy as np\n",
        "\n",
        "def linear_regression(X, y):\n",
        "    X = np.column_stack((np.ones(len(X)), X))\n",
        "    theta = np.linalg.inv(X.T.dot(X)).dot(X.T).dot(y)\n",
        "    return theta\n",
        "\n",
        "def predict(X, theta):\n",
        "    X = np.column_stack((np.ones(len(X)), X))\n",
        "    y_pred = X.dot(theta)\n",
        "    return y_pred\n",
        "\n",
        "def mean_squared_error(y_true, y_pred):\n",
        "    mse = np.mean((y_true - y_pred)**2)\n",
        "    return mse\n",
        "theta = linear_regression(X_train, Y_train)\n",
        "y_pred = predict(X_test, theta)\n",
        "mse = mean_squared_error(Y_test, y_pred)\n",
        "print(\"Model coefficients (theta):\", theta.flatten())\n",
        "print(\"Mean Squared Error:\", mse)"
      ],
      "metadata": {
        "colab": {
          "base_uri": "https://localhost:8080/"
        },
        "id": "85DiePDQZoEi",
        "outputId": "3cdf7787-88d9-44a4-a3c7-35b6fd6f5b4e"
      },
      "execution_count": 5,
      "outputs": [
        {
          "output_type": "stream",
          "name": "stdout",
          "text": [
            "Test set R^2: 0.92\n",
            "Train set R^2: 0.96\n",
            "lr.coef_: [-2.29732544e-16  1.75415238e-14  6.93889390e-16 -6.93889390e-17\n",
            " -4.49293380e-16 -1.99479647e-16 -3.81639165e-17  1.00000000e+00]\n",
            "lr.intercept_: -2.4868995751603507e-14\n",
            "Train set R^2: 1.00\n",
            "Test set R^2: 1.00\n",
            "Model coefficients (theta): [ 8.39730063e+02  4.89085643e+00 -4.62472634e+02 -1.59203889e+01\n",
            " -6.05777565e-02 -2.66917110e-01 -1.04562177e-01 -2.15501606e-02\n",
            "  1.00000000e+00]\n",
            "Mean Squared Error: 105.74748371745314\n"
          ]
        }
      ]
    },
    {
      "cell_type": "markdown",
      "source": [
        "**Logistic** **Regression**"
      ],
      "metadata": {
        "id": "xAJpad_mH4H6"
      }
    },
    {
      "cell_type": "code",
      "source": [
        "#Logistic Regression\n",
        "from sklearn.linear_model import LogisticRegression\n",
        "from sklearn.metrics import confusion_matrix, accuracy_score\n",
        "from sklearn.model_selection import train_test_split\n",
        "import pandas as pd\n",
        "#dataset = pd.read_csv('/content/final_dataset_BFP .csv')\n",
        "dataset['BFPcase'] = dataset['BFPcase'].map({'Obese':1, 'Acceptable':2, 'Fitness':3, 'Athletes':4})\n",
        "dataset['Gender'] = dataset['Gender'].map({'Male':0, 'Female':1})\n",
        "dataset['BMIcase'] = dataset['BMIcase'].map({'sever thinness':1, 'moderate thinness':2, 'mild thinness':3, 'normal':4, 'over weight':5, 'obese':6, 'severe obese':7})\n",
        "explanatory_vars = dataset.drop(\"Exercise Recommendation Plan\",axis=1)\n",
        "target = dataset[\"Exercise Recommendation Plan\"]\n",
        "X_train,X_test,Y_train,Y_test =train_test_split(explanatory_vars, target, random_state=0)\n",
        "logistic_regression = LogisticRegression(solver=\"liblinear\",random_state=0)\n",
        "model = logistic_regression.fit(X_train, Y_train)\n",
        "Y_pred = model.predict(X_test)\n",
        "print(\"The accuracy is\"+str(accuracy_score(Y_test,Y_pred)*100)+\"%\")\n",
        "print(confusion_matrix(Y_test, Y_pred))\n",
        "#Logistic Regression without python package\n",
        "import numpy as np\n",
        "def sigmoid(z):\n",
        "    return 1 / (1 + np.exp(-z))\n",
        "def gradient_descent_logistic(X, y, learning_rate=0.01, num_iterations=2000):\n",
        "    X = np.column_stack((np.ones(len(X)), X))\n",
        "    theta = np.zeros((X.shape[1], 1))\n",
        "    m = len(y)\n",
        "    for i in range(num_iterations):\n",
        "        z = np.dot(X, theta)\n",
        "        predictions = sigmoid(z)\n",
        "        errors = predictions - y.reshape(-1, 1)\n",
        "        gradient = (1 / m) * np.dot(X.T, errors)\n",
        "        theta -= learning_rate * gradient\n",
        "    return theta\n",
        "\n",
        "def predict_logistic(X, theta):\n",
        "    X = np.column_stack((np.ones(len(X)), X))\n",
        "    z = np.dot(X, theta)\n",
        "    probabilities = sigmoid(z)\n",
        "    binary_predictions = (probabilities >= 0.5).astype(int)\n",
        "    return binary_predictions\n",
        "theta = gradient_descent_logistic(X_train.values, Y_train.values)\n",
        "y_pred = predict_logistic(X_test.values, theta)\n",
        "print(\"Model coefficients (theta):\", theta.flatten())\n",
        "print(\"Predictions:\", y_pred.flatten())"
      ],
      "metadata": {
        "colab": {
          "base_uri": "https://localhost:8080/"
        },
        "id": "ylFB5LOkglB0",
        "outputId": "8f78efb8-395a-4959-95da-5f5079260fc9"
      },
      "execution_count": null,
      "outputs": [
        {
          "output_type": "stream",
          "name": "stdout",
          "text": [
            "The accuracy is77.75999999999999%\n",
            "[[ 49   0   0   0   0   0   0]\n",
            " [  0   0   4  36   0   0   0]\n",
            " [  0   0   5  40   0   0   0]\n",
            " [  0   0   2 301  66   0   0]\n",
            " [  0   0   0  69 253  23   0]\n",
            " [  0   0   0   0  28 178   6]\n",
            " [  0   0   0   0   0   4 186]]\n",
            "Model coefficients (theta): [  77.40766667 6588.73702837  135.19737458 2165.34384273 2586.59327494\n",
            "  104.02938667   45.94384    3243.44083333  423.149684  ]\n",
            "Predictions: [1 1 1 ... 1 1 1]\n"
          ]
        }
      ]
    },
    {
      "cell_type": "markdown",
      "source": [
        "**Decision Tree**"
      ],
      "metadata": {
        "id": "SA5A-Vr2L7K1"
      }
    },
    {
      "cell_type": "code",
      "source": [
        "\n",
        "from sklearn.preprocessing import label_binarize\n",
        "from sklearn.tree import DecisionTreeClassifier\n",
        "from sklearn.preprocessing import StandardScaler\n",
        "from sklearn import metrics\n",
        "import matplotlib.pyplot as plt\n",
        "from sklearn.metrics import confusion_matrix, classification_report\n",
        "from sklearn.metrics import roc_curve, auc\n",
        "from sklearn.multiclass import OneVsRestClassifier\n",
        "from itertools import cycle\n",
        "\n",
        "yt = label_binarize(target, classes=[1, 2, 3, 4, 5, 6, 7])\n",
        "n_classes = yt.shape[1]\n",
        "\n",
        "# Create decision tree classifier object\n",
        "decisiontree = DecisionTreeClassifier(criterion='entropy',random_state=0)\n",
        "# Train model\n",
        "decision_tree_model = decisiontree.fit(X_train, Y_train)\n",
        "# Predict observation's class\n",
        "Y_pred_dt = model.predict(X_test)\n",
        "Y_prob=model.predict_proba(X_test)\n",
        "\n",
        "print(\"Test set R^2 Tree Classification: {:.2f}\".format(decision_tree_model.score(X_test, Y_test)))\n",
        "print(\"The accuracy is \"+str(metrics.accuracy_score(Y_test,Y_pred_dt)*100)+\"%\")\n",
        "print(confusion_matrix(Y_test, Y_pred_dt))\n",
        "target_names = ['class 1', 'class 2','class 3', 'class 4', 'class 5', 'class 6', 'class 7']\n",
        "print(classification_report(Y_test, Y_pred_dt, target_names=target_names))\n",
        "\n",
        "\n",
        "#Add max depth"
      ],
      "metadata": {
        "colab": {
          "base_uri": "https://localhost:8080/"
        },
        "id": "0NtVQOjKL9rO",
        "outputId": "44e51c8e-7a54-49f0-baa4-1842efafc0a8"
      },
      "execution_count": null,
      "outputs": [
        {
          "output_type": "stream",
          "name": "stdout",
          "text": [
            "Test set R^2 Tree Classification: 1.00\n",
            "The accuracy is 77.75999999999999%\n",
            "[[ 49   0   0   0   0   0   0]\n",
            " [  0   0   4  36   0   0   0]\n",
            " [  0   0   5  40   0   0   0]\n",
            " [  0   0   2 301  66   0   0]\n",
            " [  0   0   0  69 253  23   0]\n",
            " [  0   0   0   0  28 178   6]\n",
            " [  0   0   0   0   0   4 186]]\n",
            "              precision    recall  f1-score   support\n",
            "\n",
            "     class 1       1.00      1.00      1.00        49\n",
            "     class 2       0.00      0.00      0.00        40\n",
            "     class 3       0.45      0.11      0.18        45\n",
            "     class 4       0.67      0.82      0.74       369\n",
            "     class 5       0.73      0.73      0.73       345\n",
            "     class 6       0.87      0.84      0.85       212\n",
            "     class 7       0.97      0.98      0.97       190\n",
            "\n",
            "    accuracy                           0.78      1250\n",
            "   macro avg       0.67      0.64      0.64      1250\n",
            "weighted avg       0.75      0.78      0.76      1250\n",
            "\n"
          ]
        },
        {
          "output_type": "stream",
          "name": "stderr",
          "text": [
            "/usr/local/lib/python3.10/dist-packages/sklearn/metrics/_classification.py:1344: UndefinedMetricWarning: Precision and F-score are ill-defined and being set to 0.0 in labels with no predicted samples. Use `zero_division` parameter to control this behavior.\n",
            "  _warn_prf(average, modifier, msg_start, len(result))\n",
            "/usr/local/lib/python3.10/dist-packages/sklearn/metrics/_classification.py:1344: UndefinedMetricWarning: Precision and F-score are ill-defined and being set to 0.0 in labels with no predicted samples. Use `zero_division` parameter to control this behavior.\n",
            "  _warn_prf(average, modifier, msg_start, len(result))\n",
            "/usr/local/lib/python3.10/dist-packages/sklearn/metrics/_classification.py:1344: UndefinedMetricWarning: Precision and F-score are ill-defined and being set to 0.0 in labels with no predicted samples. Use `zero_division` parameter to control this behavior.\n",
            "  _warn_prf(average, modifier, msg_start, len(result))\n"
          ]
        }
      ]
    },
    {
      "cell_type": "markdown",
      "source": [
        "**Naive Bayes Regression**"
      ],
      "metadata": {
        "id": "NYUu9WXJQvKV"
      }
    },
    {
      "cell_type": "code",
      "source": [
        "from sklearn.naive_bayes import GaussianNB\n",
        "\n",
        "bayesian_classifer = GaussianNB()\n",
        "# Train model\n",
        "bayesian_model = bayesian_classifer.fit(X_train, Y_train)\n",
        "bayesian_pred=bayesian_model.predict(X_test)\n",
        "\n",
        "print(\"The accuracy is \"+str(metrics.accuracy_score(Y_test,bayesian_pred)*100)+\"%\")\n",
        "print(confusion_matrix(Y_test, bayesian_pred))\n",
        "target_names = ['class 1', 'class 2','class 3', 'class 4', 'class 5', 'class 6', 'class 7']\n",
        "print(classification_report(Y_test, bayesian_pred,target_names=target_names))"
      ],
      "metadata": {
        "colab": {
          "base_uri": "https://localhost:8080/"
        },
        "id": "jSYMrgqLRc8d",
        "outputId": "7d8634bb-37a2-4011-972d-8d15366bf8f5"
      },
      "execution_count": null,
      "outputs": [
        {
          "output_type": "stream",
          "name": "stdout",
          "text": [
            "The accuracy is 100.0%\n",
            "[[ 49   0   0   0   0   0   0]\n",
            " [  0  40   0   0   0   0   0]\n",
            " [  0   0  45   0   0   0   0]\n",
            " [  0   0   0 369   0   0   0]\n",
            " [  0   0   0   0 345   0   0]\n",
            " [  0   0   0   0   0 212   0]\n",
            " [  0   0   0   0   0   0 190]]\n",
            "              precision    recall  f1-score   support\n",
            "\n",
            "     class 1       1.00      1.00      1.00        49\n",
            "     class 2       1.00      1.00      1.00        40\n",
            "     class 3       1.00      1.00      1.00        45\n",
            "     class 4       1.00      1.00      1.00       369\n",
            "     class 5       1.00      1.00      1.00       345\n",
            "     class 6       1.00      1.00      1.00       212\n",
            "     class 7       1.00      1.00      1.00       190\n",
            "\n",
            "    accuracy                           1.00      1250\n",
            "   macro avg       1.00      1.00      1.00      1250\n",
            "weighted avg       1.00      1.00      1.00      1250\n",
            "\n"
          ]
        }
      ]
    },
    {
      "cell_type": "markdown",
      "source": [
        "**Support Vector Regression**"
      ],
      "metadata": {
        "id": "c-ijdhR4UjJG"
      }
    },
    {
      "cell_type": "code",
      "source": [
        "from sklearn.svm import LinearSVC\n",
        "from sklearn import datasets\n",
        "from sklearn.preprocessing import StandardScaler\n",
        "import pandas as pd\n",
        "from sklearn.svm import SVR\n",
        "from sklearn.metrics import mean_squared_error, r2_score\n",
        "import numpy as np\n",
        "\n",
        "scaler = StandardScaler()\n",
        "features_standardized = scaler.fit_transform(explanatory_vars)\n",
        "\n",
        "svr_model = SVR(kernel='linear')\n",
        "#Experiment with other kernels like 'rbf', 'poly', etc.\n",
        "svr_model.fit(X_train, Y_train)\n",
        "\n",
        "\n",
        "Y_pred_SVR = svr_model.predict(X_test)\n",
        "\n",
        "\n",
        "mse = mean_squared_error(Y_test, Y_pred_SVR)\n",
        "r2 = r2_score(Y_test, Y_pred_SVR)\n",
        "\n",
        "print(f\"Mean Squared Error: {mse}\")\n",
        "print(f\"R^2 Score: {r2}\")\n",
        "\n",
        "#print(\"Predictions:\", np.round(Y_pred_SVR))"
      ],
      "metadata": {
        "colab": {
          "base_uri": "https://localhost:8080/"
        },
        "id": "XWWlyjEaNVcS",
        "outputId": "19f82695-55e8-4c5d-c5e6-f0fa69630f14"
      },
      "execution_count": 8,
      "outputs": [
        {
          "output_type": "stream",
          "name": "stdout",
          "text": [
            "Mean Squared Error: 0.0015459632840343382\n",
            "R^2 Score: 0.9993507845782386\n"
          ]
        }
      ]
    },
    {
      "cell_type": "code",
      "source": [
        "svr_model_rbf = SVR(kernel='rbf')\n",
        "svr_model_rbf.fit(X_train, Y_train)\n",
        "\n",
        "\n",
        "Y_pred_SVR_rbf = svr_model_rbf.predict(X_test)\n",
        "\n",
        "\n",
        "mse = mean_squared_error(Y_test, Y_pred_SVR_rbf)\n",
        "r2 = r2_score(Y_test, Y_pred_SVR_rbf)\n",
        "\n",
        "print(f\"Mean Squared Error: {mse}\")\n",
        "print(f\"R^2 Score: {r2}\")"
      ],
      "metadata": {
        "colab": {
          "base_uri": "https://localhost:8080/"
        },
        "id": "aHcQ8XdVP_VZ",
        "outputId": "d07a5e4c-ed17-43e8-8d89-7c699bb1129b"
      },
      "execution_count": 9,
      "outputs": [
        {
          "output_type": "stream",
          "name": "stdout",
          "text": [
            "Mean Squared Error: 0.11056830090446322\n",
            "R^2 Score: 0.9535676902249456\n"
          ]
        }
      ]
    }
  ],
  "metadata": {
    "colab": {
      "provenance": [],
      "include_colab_link": true
    },
    "kernelspec": {
      "display_name": "Python 3",
      "name": "python3"
    },
    "language_info": {
      "name": "python"
    }
  },
  "nbformat": 4,
  "nbformat_minor": 0
}